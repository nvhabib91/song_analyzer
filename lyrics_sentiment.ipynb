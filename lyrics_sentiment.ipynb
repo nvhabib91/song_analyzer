{
 "cells": [
  {
   "cell_type": "code",
   "execution_count": null,
   "metadata": {},
   "outputs": [],
   "source": [
    "##### Testing techniques between TextBlob and vaderSentiment and Afinn\n",
    "##### Also using the lyricsgenius API vs AZ lyrics/other lyrics source (will validate for ease of use)\n",
    "##### Testing only one song corrently at a time\n",
    "##### Expected output: pos/neg/neutral for Vader, polarity/subjectivity for TextBlob\n",
    "\n",
    "#####\n",
    "\n",
    "###### Stretch goals: To be able to use the Canada Lexicon compilation study of word associations to emotions. Maybe score the song to produce an emotion associated with: anger, disgust, fear, joy, anticipation, sadness, surprise or trust. "
   ]
  },
  {
   "cell_type": "code",
   "execution_count": 43,
   "metadata": {},
   "outputs": [],
   "source": [
    "# Dependencies set up:\n",
    "\n",
    "# Dataframe building, analysis\n",
    "import pandas as pd\n",
    "import numpy as np\n",
    "import json\n",
    "\n",
    "# Scraping data/lyrics\n",
    "import lyricsgenius\n",
    "\n",
    "# Data Preprocessing\n",
    "from textblob import TextBlob\n",
    "from nltk.corpus import stopwords\n",
    "import contractions\n",
    "import re\n",
    "import string\n",
    "import nltk\n",
    "from vaderSentiment.vaderSentiment import SentimentIntensityAnalyzer\n",
    "from nltk import word_tokenize\n",
    "from nltk.stem import WordNetLemmatizer\n",
    "from afinn import Afinn"
   ]
  },
  {
   "cell_type": "markdown",
   "metadata": {},
   "source": [
    "### Preprocessing Steps ###"
   ]
  },
  {
   "cell_type": "code",
   "execution_count": 50,
   "metadata": {},
   "outputs": [
    {
     "name": "stdout",
     "output_type": "stream",
     "text": [
      "Searching for songs by Eminem...\n",
      "\n",
      "Song 1: \"12 Days of Diss-Mas\"\n",
      "\n",
      "Reached user-specified song limit (1).\n",
      "Done. Found 1 songs.\n",
      "Searching for \"Lose Yourself\" by Eminem...\n",
      "Done.\n"
     ]
    },
    {
     "data": {
      "text/plain": [
       "\"[Intro]\\nLook, if you had one shot or one opportunity\\nTo seize everything you ever wanted in one moment\\nWould you capture it, or just let it slip? Yo\\n\\n[Verse 1]\\nHis palms are sweaty, knees weak, arms are heavy\\nThere's vomit on his sweater already, mom's spaghetti\\nHe's nervous, but on the surface he looks calm and ready\\nTo drop bombs, but he keeps on forgetting\\nWhat he wrote down, the whole crowd goes so loud\\nHe opens his mouth, but the words won't come out\\nHe's choking, how? Everybody's joking now\\nThe clock's run out, time's up, over—blaow!\\nSnap back to reality, ope there goes gravity, ope\\nThere goes Rabbit, he choked, he's so mad but he won't\\nGive up that easy, no, he won't have it, he knows\\nHis whole back's to these ropes, it don't matter, he's dope\\nHe knows that but he's broke, he's so stagnant, he knows\\nWhen he goes back to this mobile home, that's when it's\\nBack to the lab again yo, this old rap shit, he\\nBetter go capture this moment and hope it don't pass him, and\\n\\n[Chorus]\\nYou better lose yourself in the music\\nThe moment, you own it, you better never let it go (Go!)\\nYou only get one shot, do not miss your chance to blow\\nThis opportunity comes once in a lifetime, yo\\nYou better lose yourself in the music\\nThe moment, you own it, you better never let it go (Go!)\\nYou only get one shot, do not miss your chance to blow\\nThis opportunity comes once in a lifetime, yo\\nYou better…\\n\\n[Verse 2]\\nHis soul's escaping through this hole that is gaping\\nThis world is mine for the taking, make me king\\nAs we move toward a New World Order\\nA normal life is boring; but superstardom's\\nClose to post-mortem, it only grows harder\\nHomie grows hotter, he blows, it's all over\\nThese hoes is all on him, coast-to-coast shows\\nHe's known as the Globetrotter, lonely roads\\nGod only knows, he's grown farther from home, he's no father\\nHe goes home and barely knows his own daughter\\nBut hold your nose, 'cause here goes the cold water\\nThese hoes don't want him no mo', he's cold product\\nThey moved on to the next schmoe who flows\\nHe nose-dove and sold nada, and so the soap opera\\nIs told, it unfolds, I suppose it's old, partner\\nBut the beat goes on: da-da-dom, da-dom, dah-dah, dah-dah\\n\\n[Chorus]\\nYou better lose yourself in the music\\nThe moment, you own it, you better never let it go (Go!)\\nYou only get one shot, do not miss your chance to blow\\nThis opportunity comes once in a lifetime, yo\\nYou better lose yourself in the music\\nThe moment, you own it, you better never let it go (Go!)\\nYou only get one shot, do not miss your chance to blow\\nThis opportunity comes once in a lifetime, yo\\nYou better…\\n\\n[Verse 3]\\nNo more games, I'ma change what you call rage\\nTear this motherfuckin' roof off like two dogs caged\\nI was playin' in the beginning, the mood all changed\\nI've been chewed up and spit out and booed off stage\\nBut I kept rhymin' and stepped right in the next cypher\\nBest believe somebody's payin' the Pied Piper\\nAll the pain inside amplified by the\\nFact that I can't get by with my nine-to-\\nFive and I can't provide the right type of life for my family\\n'Cause man, these goddamn food stamps don't buy diapers\\nAnd there's no movie, there's no Mekhi Phifer, this is my life\\nAnd these times are so hard, and it's gettin' even harder\\nTryna feed and water my seed, plus teeter-totter\\nCaught up between bein' a father and a prima donna\\nBaby mama drama, screamin' on her, too much for me to wanna\\nStay in one spot, another day of monotony's\\nGotten me to the point I'm like a snail, I've got\\nTo formulate a plot or end up in jail or shot\\nSuccess is my only motherfuckin' option—failure's not\\nMom, I love you, but this trailer's got\\nTo go; I cannot grow old in Salem's Lot\\nSo here I go, it's my shot: feet, fail me not\\nThis may be the only opportunity that I got\\n\\n[Chorus]\\nYou better lose yourself in the music\\nThe moment, you own it, you better never let it go (Go!)\\nYou only get one shot, do not miss your chance to blow\\nThis opportunity comes once in a lifetime, yo\\nYou better lose yourself in the music\\nThe moment, you own it, you better never let it go (Go!)\\nYou only get one shot, do not miss your chance to blow\\nThis opportunity comes once in a lifetime, yo\\nYou better…\\n\\n[Outro]\\nYou can do anything you set your mind to, man\""
      ]
     },
     "execution_count": 50,
     "metadata": {},
     "output_type": "execute_result"
    }
   ],
   "source": [
    "# API Test \n",
    "# lyrics_url = \"https://www.azlyrics.com/lyrics/pharrellwilliams/happy.html\"\n",
    "# response = requests.get(lyrics_url)\n",
    "# soup = BeautifulSoup(response.text, 'lxml')\n",
    "# lyrics = soup.find('div', class_=None).text\n",
    "# lyrics = lyrics.replace('\\n', ' ').replace('\\r', ' ')\n",
    "# lyrics\n",
    "\n",
    "import lyricsgenius\n",
    "genius = lyricsgenius.Genius(\"9TKmoq_foRHodVBBuM-5doQJNej6I5gqgPk6Kkde_Qhxx3ZW6nOBZWGfHMnwCmuL\")\n",
    "artist = 'Eminem'\n",
    "search_artist = genius.search_artist(artist, max_songs=1, sort=\"title\")\n",
    "song = genius.search_song(\"Lose Yourself\", search_artist.name)\n",
    "lyrics = song.lyrics\n",
    "lyrics"
   ]
  },
  {
   "cell_type": "code",
   "execution_count": 4,
   "metadata": {},
   "outputs": [],
   "source": [
    "#1 Cleaning the lyrics of words that describe parts of the song, such as [Chorus:], [Explicit:], [Verse 2:] etc. \n",
    "lyrics = re.sub('\\\\[[^\\\\]]*\\\\]', '', lyrics)"
   ]
  },
  {
   "cell_type": "code",
   "execution_count": null,
   "metadata": {},
   "outputs": [],
   "source": [
    "#2. Expand contractions\n",
    "exp_lyrics = contractions.fix(lyrics)\n",
    "exp_lyrics"
   ]
  },
  {
   "cell_type": "code",
   "execution_count": null,
   "metadata": {},
   "outputs": [],
   "source": [
    "#2. Converted all the words into lowercase in case capitalization interferes with the weight of the words, removed leading and trailing spaces. Also removes instance of () where it occurs, but keeps the words.\n",
    "lyrics = exp_lyrics.lower().strip().replace('   ', ' ').replace('(', '').replace(')', '').replace('\\n', ' ').replace('\\r', ' ')\n",
    "lyrics"
   ]
  },
  {
   "cell_type": "code",
   "execution_count": null,
   "metadata": {},
   "outputs": [],
   "source": [
    "#3. Remove punctuations\n",
    "punc_lyrics = lyrics.translate(str.maketrans('','', string.punctuation))\n",
    "punc_lyrics"
   ]
  },
  {
   "cell_type": "code",
   "execution_count": null,
   "metadata": {
    "scrolled": true
   },
   "outputs": [],
   "source": [
    "#3. Tokenizing? \n",
    "tokenized_lyrics = nltk.word_tokenize(punc_lyrics)\n",
    "tokenized_lyrics"
   ]
  },
  {
   "cell_type": "code",
   "execution_count": null,
   "metadata": {
    "scrolled": true
   },
   "outputs": [],
   "source": [
    "#4. Remove stopwords?\n",
    "from nltk.corpus import stopwords\n",
    "stop_words = set(stopwords.words('english'))\n",
    "\n",
    "filtered_lyrics = [lyrics for lyrics in tokenized_lyrics if not lyrics in stop_words]\n",
    "filtered_lyrics"
   ]
  },
  {
   "cell_type": "code",
   "execution_count": null,
   "metadata": {},
   "outputs": [],
   "source": [
    "#5. Convert list to string. Lemmatize?\n",
    "from nltk.stem import WordNetLemmatizer\n",
    "lemm = WordNetLemmatizer()\n",
    "\n",
    "# Stringing the words together\n",
    "lemmatized = ' '.join([lemm.lemmatize(words) for words in filtered_lyrics])\n",
    "\n",
    "# [lemmatizer.lemmatize(w) for w in word_list]\n",
    "\n",
    "# lemmatized = lemm.lemmatize(filtered_string)\n",
    "lemmatized"
   ]
  },
  {
   "cell_type": "code",
   "execution_count": 64,
   "metadata": {},
   "outputs": [],
   "source": [
    "# Function with VaderSentiment and adding Afinn words (words that can influence the scoring)\n",
    "# Afinn-111.txt = classifying the words that may have affected the sentiment score\n",
    "\n",
    "def vader_sentiment(lyrics):\n",
    "    lyrics = re.sub('\\\\[[^\\\\]]*\\\\]', '', lyrics)\n",
    "    lyrics_cont = contractions.fix(lyrics)\n",
    "    char_lyrics = lyrics_cont.lower().strip().replace('(', '').replace(')', '').replace('\\n', ' ').replace('\\r', ' ')\n",
    "    punc_lyrics = char_lyrics.translate(str.maketrans('','', string.punctuation))\n",
    "    \n",
    "    #Tokenize\n",
    "    tokenized_lyrics = nltk.word_tokenize(punc_lyrics)\n",
    "    \n",
    "    #Stop words have to be stored and loaded first\n",
    "    stop_words = set(stopwords.words('english'))\n",
    "    stop_lyrics = [lyrics for lyrics in tokenized_lyrics if not lyrics in stop_words]\n",
    "    \n",
    "    #Join for lemmatization\n",
    "    lemm = WordNetLemmatizer()\n",
    "    lemmatized = ' '.join([lemm.lemmatize(words) for words in stop_lyrics])\n",
    "    \n",
    "    #Sentiment Analysis\n",
    "    analyzer = SentimentIntensityAnalyzer()\n",
    "    text_sentiment = analyzer.polarity_scores(lemmatized)\n",
    "    \n",
    "    #Split the dictionary for graphing\n",
    "    compound_score = text_sentiment.pop('compound')\n",
    "    \n",
    "    #Input and Output Afinn words\n",
    "    afinn_text = pd.read_csv('AFINN-111.txt', names=[\"word\", \"score\"], sep='\\t')\n",
    "    afinn_list = afinn_text['word'].values.tolist()\n",
    "    lemmatized_tokens = nltk.word_tokenize(lemmatized)\n",
    "    \n",
    "    def common_elements_s(afinn_list, lemmatized_tokens):\n",
    "        return list(set(afinn_list) & set(lemmatized_tokens))\n",
    "\n",
    "    common = common_elements_s(afinn_list, lemmatized_tokens)\n",
    "    common_string = ', '.join([str(x) for x in common]) \n",
    "    \n",
    "    print(f'Words that can affect the sentiment scores: {common_string}')\n",
    "    print('---'*30)\n",
    "    print(text_sentiment)\n",
    "    print('---'*30)\n",
    "    print(f'Compound Score: {compound_score}')"
   ]
  },
  {
   "cell_type": "code",
   "execution_count": 65,
   "metadata": {},
   "outputs": [
    {
     "name": "stdout",
     "output_type": "stream",
     "text": [
      "Words that can affect the sentiment scores: choked, pain, shit, like, boring, goddamn, opportunity, mad, easy, better, love, calm, want, rage, hope, miss, lonely, nervous, god, escaping, drop, chance, bomb, fail, weak, matter, hard, best, choking, broke, success\n",
      "------------------------------------------------------------------------------------------\n",
      "{'neg': 0.141, 'neu': 0.645, 'pos': 0.214}\n",
      "------------------------------------------------------------------------------------------\n",
      "Compound Score: 0.9864\n"
     ]
    }
   ],
   "source": [
    "vader_sentiment(lyrics)"
   ]
  }
 ],
 "metadata": {
  "kernelspec": {
   "display_name": "Python [conda env:PythonData] *",
   "language": "python",
   "name": "conda-env-PythonData-py"
  },
  "language_info": {
   "codemirror_mode": {
    "name": "ipython",
    "version": 3
   },
   "file_extension": ".py",
   "mimetype": "text/x-python",
   "name": "python",
   "nbconvert_exporter": "python",
   "pygments_lexer": "ipython3",
   "version": "3.6.9"
  }
 },
 "nbformat": 4,
 "nbformat_minor": 4
}
