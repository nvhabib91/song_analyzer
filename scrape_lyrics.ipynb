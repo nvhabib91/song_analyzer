{
 "cells": [
  {
   "cell_type": "code",
   "execution_count": 1,
   "metadata": {},
   "outputs": [],
   "source": [
    "from bs4 import BeautifulSoup\n",
    "import requests\n",
    "import re\n",
    "import time\n",
    "import pandas as pd\n",
    "\n",
    "agent = 'Mozilla/5.0 (Windows NT 6.0; WOW64; rv:24.0) \\\n",
    "        Gecko/20100101 Firefox/24.0'\n",
    "headers = {'User-Agent': agent}\n",
    "\n",
    "import sqlite3\n",
    "conn = sqlite3.connect('songs_db.sqlite')"
   ]
  },
  {
   "cell_type": "code",
   "execution_count": 117,
   "metadata": {},
   "outputs": [],
   "source": [
    "from bs4 import BeautifulSoup\n",
    "import requests\n",
    "import time\n",
    "lyrics_url = \"https://www.azlyrics.com/lyrics/ladygaga/pokerface.html\"\n",
    "response = requests.get(lyrics_url, headers=headers)\n"
   ]
  },
  {
   "cell_type": "code",
   "execution_count": 122,
   "metadata": {},
   "outputs": [
    {
     "name": "stdout",
     "output_type": "stream",
     "text": [
      "Lady Gaga Poker Face\n"
     ]
    }
   ],
   "source": [
    "soup = BeautifulSoup(response.text, 'lxml')\n",
    "lyrics = soup.find('div', class_=None).text\n",
    "lyrics = lyrics.replace('\\n', ' ').replace('\\r', ' ')\n",
    "\n",
    "x = soup.find('h1')\n",
    "songTitle = x.text.split(' lyrics')[0]\n",
    "songTitle = songTitle.replace('\\n', ' ').replace('\\r', ' ').replace('\"', '')\n",
    "y = soup.find('h2')\n",
    "artistName = y.text.split(' Lyrics')[0]\n",
    "artistName = artistName.replace('\\n', ' ').replace('\\r', ' ').replace('\"', '')\n",
    "print(artistName, songTitle)\n"
   ]
  },
  {
   "cell_type": "code",
   "execution_count": 161,
   "metadata": {},
   "outputs": [],
   "source": []
  },
  {
   "cell_type": "code",
   "execution_count": 181,
   "metadata": {},
   "outputs": [
    {
     "data": {
      "text/plain": [
       "'Beyonce'"
      ]
     },
     "execution_count": 181,
     "metadata": {},
     "output_type": "execute_result"
    }
   ],
   "source": [
    "artist_url = \"https://www.azlyrics.com/k/knowles.html\"\n",
    "response = requests.get(artist_url, headers=headers)\n",
    "\n",
    "soup = BeautifulSoup(response.text, 'lxml')\n",
    "albums_div = soup.find_all('div', class_=\"listalbum-item\")\n",
    "inputs = soup.find('input', attrs={'type':\"hidden\", 'name':'artist'})\n",
    "inputs.attrs['value']"
   ]
  },
  {
   "cell_type": "code",
   "execution_count": 182,
   "metadata": {},
   "outputs": [
    {
     "name": "stdout",
     "output_type": "stream",
     "text": [
      "Crazy In Love\n",
      "Naughty Girl\n",
      "Baby Boy\n",
      "Hip Hop Star\n",
      "Be With You\n",
      "Me, Myself & I\n",
      "Yes\n",
      "Signs\n",
      "Speechless\n",
      "That's How You Like It\n",
      "Closer I Get To You\n",
      "Dangerously In Love 2\n",
      "Beyonce Interlude\n",
      "Gift From Virgo\n",
      "'03 Bonnie & Clyde\n",
      "Work It Out\n",
      "Daddy\n",
      "Fighting Temptations\n",
      "Fever\n",
      "Everything I Do\n",
      "Swing Low, Sweet Chariot\n",
      "He Still Loves Me\n",
      "Time To Come Home\n",
      "Summertime (w/ P. Diddy)\n",
      "DÃ©jÃ  Vu\n",
      "Get Me Bodied\n",
      "Suga Mama\n",
      "Upgrade U\n",
      "Ring The Alarm\n",
      "Kitty Kat\n",
      "Freakum Dress\n",
      "Green Light\n",
      "Irreplaceable\n"
     ]
    },
    {
     "ename": "AttributeError",
     "evalue": "'NoneType' object has no attribute 'text'",
     "output_type": "error",
     "traceback": [
      "\u001b[1;31m---------------------------------------------------------------------------\u001b[0m",
      "\u001b[1;31mAttributeError\u001b[0m                            Traceback (most recent call last)",
      "\u001b[1;32m<ipython-input-182-be3f8b8702eb>\u001b[0m in \u001b[0;36m<module>\u001b[1;34m\u001b[0m\n\u001b[0;32m      7\u001b[0m     \u001b[0mresponse\u001b[0m \u001b[1;33m=\u001b[0m \u001b[0mrequests\u001b[0m\u001b[1;33m.\u001b[0m\u001b[0mget\u001b[0m\u001b[1;33m(\u001b[0m\u001b[0msong_url\u001b[0m\u001b[1;33m,\u001b[0m \u001b[0mheaders\u001b[0m\u001b[1;33m=\u001b[0m\u001b[0mheaders\u001b[0m\u001b[1;33m)\u001b[0m\u001b[1;33m\u001b[0m\u001b[1;33m\u001b[0m\u001b[0m\n\u001b[0;32m      8\u001b[0m     \u001b[0msoup\u001b[0m \u001b[1;33m=\u001b[0m \u001b[0mBeautifulSoup\u001b[0m\u001b[1;33m(\u001b[0m\u001b[0mresponse\u001b[0m\u001b[1;33m.\u001b[0m\u001b[0mtext\u001b[0m\u001b[1;33m,\u001b[0m \u001b[1;34m'lxml'\u001b[0m\u001b[1;33m)\u001b[0m\u001b[1;33m\u001b[0m\u001b[1;33m\u001b[0m\u001b[0m\n\u001b[1;32m----> 9\u001b[1;33m     \u001b[0mlyrics\u001b[0m \u001b[1;33m=\u001b[0m \u001b[0msoup\u001b[0m\u001b[1;33m.\u001b[0m\u001b[0mfind\u001b[0m\u001b[1;33m(\u001b[0m\u001b[1;34m'div'\u001b[0m\u001b[1;33m,\u001b[0m \u001b[0mclass_\u001b[0m\u001b[1;33m=\u001b[0m\u001b[1;32mNone\u001b[0m\u001b[1;33m)\u001b[0m\u001b[1;33m.\u001b[0m\u001b[0mtext\u001b[0m\u001b[1;33m\u001b[0m\u001b[1;33m\u001b[0m\u001b[0m\n\u001b[0m\u001b[0;32m     10\u001b[0m \u001b[1;33m\u001b[0m\u001b[0m\n\u001b[0;32m     11\u001b[0m     \u001b[0msongLyrics\u001b[0m\u001b[1;33m.\u001b[0m\u001b[0mappend\u001b[0m\u001b[1;33m(\u001b[0m\u001b[0mlyrics\u001b[0m\u001b[1;33m.\u001b[0m\u001b[0mreplace\u001b[0m\u001b[1;33m(\u001b[0m\u001b[1;34m'\\n'\u001b[0m\u001b[1;33m,\u001b[0m \u001b[1;34m' '\u001b[0m\u001b[1;33m)\u001b[0m\u001b[1;33m.\u001b[0m\u001b[0mreplace\u001b[0m\u001b[1;33m(\u001b[0m\u001b[1;34m'\\r'\u001b[0m\u001b[1;33m,\u001b[0m \u001b[1;34m' '\u001b[0m\u001b[1;33m)\u001b[0m\u001b[1;33m)\u001b[0m\u001b[1;33m\u001b[0m\u001b[1;33m\u001b[0m\u001b[0m\n",
      "\u001b[1;31mAttributeError\u001b[0m: 'NoneType' object has no attribute 'text'"
     ]
    }
   ],
   "source": [
    "songTitle = []\n",
    "songArtist = []\n",
    "songUrl = []\n",
    "songLyrics = []\n",
    "for link in albums_div:\n",
    "    song_url = link.find('a')['href'].replace('..','https://www.azlyrics.com')\n",
    "    response = requests.get(song_url, headers=headers)\n",
    "    soup = BeautifulSoup(response.text, 'lxml')\n",
    "    lyrics = soup.find('div', class_=None).text\n",
    "    \n",
    "    songLyrics.append(lyrics.replace('\\n', ' ').replace('\\r', ' '))\n",
    "    songTitle.append(link.text)\n",
    "    songArtist.append(inputs.attrs['value'])\n",
    "    songUrl.append(song_url)\n",
    "    print(link.text)\n",
    "    time.sleep(3)\n",
    "    "
   ]
  },
  {
   "cell_type": "code",
   "execution_count": null,
   "metadata": {},
   "outputs": [],
   "source": []
  },
  {
   "cell_type": "code",
   "execution_count": 175,
   "metadata": {},
   "outputs": [],
   "source": [
    "df = pd.DataFrame(\n",
    "    {\n",
    "        \"SONG_URL\": songUrl,\n",
    "        \"SONG_TITLE\" : songTitle,\n",
    "        \"SONG_ARTIST\" : songArtist,\n",
    "        \"SONG_LYRICS\" : songLyrics\n",
    "    }\n",
    ")"
   ]
  },
  {
   "cell_type": "code",
   "execution_count": 178,
   "metadata": {},
   "outputs": [],
   "source": [
    "from sqlalchemy import create_engine\n",
    "engine = create_engine('sqlite:///songs_db.sqlite', echo=False)\n",
    "df.to_sql('songs', con=engine, if_exists='append', index=False)"
   ]
  },
  {
   "cell_type": "code",
   "execution_count": 3,
   "metadata": {},
   "outputs": [
    {
     "name": "stdout",
     "output_type": "stream",
     "text": [
      "Searching for songs by Beyonce...\n",
      "\n",
      "Changing artist name to 'Beyoncé'\n",
      "Song 1: \"Drunk in Love\"\n",
      "Song 2: \"Formation\"\n",
      "Song 3: \"Partition\"\n",
      "\n",
      "Reached user-specified song limit (3).\n",
      "Done. Found 3 songs.\n"
     ]
    }
   ],
   "source": [
    "# https://github.com/johnwmillr/LyricsGenius\n",
    "import lyricsgenius\n",
    "genius = lyricsgenius.Genius(\"CGUUXgD_-Bz4ISx2joLBXq9d4jDZisGme3f3-Ygb9a2UmEuwol5eWiOnBgPcY-z7\")\n",
    "artist = genius.search_artist(\"Beyonce\", max_songs=3)"
   ]
  },
  {
   "cell_type": "code",
   "execution_count": 5,
   "metadata": {},
   "outputs": [
    {
     "data": {
      "text/plain": [
       "[('Drunk in Love', 'Beyoncé'),\n",
       " ('Formation', 'Beyoncé'),\n",
       " ('Partition', 'Beyoncé')]"
      ]
     },
     "execution_count": 5,
     "metadata": {},
     "output_type": "execute_result"
    }
   ],
   "source": [
    "artist.songs"
   ]
  },
  {
   "cell_type": "code",
   "execution_count": 9,
   "metadata": {},
   "outputs": [
    {
     "name": "stdout",
     "output_type": "stream",
     "text": [
      "https://images.genius.com/6b18da0bea43c85d97714d38ec388ccc.648x648x1.jpg\n"
     ]
    }
   ],
   "source": [
    "print(artist.songs[0].song_art_image_url)"
   ]
  },
  {
   "cell_type": "code",
   "execution_count": null,
   "metadata": {},
   "outputs": [],
   "source": []
  },
  {
   "cell_type": "code",
   "execution_count": null,
   "metadata": {},
   "outputs": [],
   "source": []
  },
  {
   "cell_type": "code",
   "execution_count": null,
   "metadata": {},
   "outputs": [],
   "source": []
  },
  {
   "cell_type": "code",
   "execution_count": null,
   "metadata": {},
   "outputs": [],
   "source": []
  },
  {
   "cell_type": "code",
   "execution_count": 239,
   "metadata": {},
   "outputs": [],
   "source": [
    "songID = []\n",
    "songUrl = []\n",
    "songTitle = []\n",
    "songArtist = []\n",
    "songAlbum = []\n",
    "songYear = []\n",
    "songImage = []\n",
    "songLyrics = []\n",
    "\n",
    "for song in artist.songs:\n",
    "    songID.append(song._id)\n",
    "    songUrl.append(song.url)\n",
    "    songTitle.append(song.title)\n",
    "    songArtist.append(song.artist)\n",
    "    songAlbum.append(song.album)\n",
    "    songYear.append(song.year)\n",
    "    songImage.append(song.song_art_image_url)\n",
    "    songLyrics.append(song.lyrics.replace('\\n', ' ').replace('\\r', ' '))\n",
    "    \n",
    "    \n",
    "#     song = genius.search_song(i[0], i[1])\n",
    "#     print(song.lyrics.replace('\\n', ' ').replace('\\r', ' '))"
   ]
  },
  {
   "cell_type": "code",
   "execution_count": 240,
   "metadata": {},
   "outputs": [],
   "source": [
    "df = pd.DataFrame(\n",
    "    {\n",
    "        \"SONG_ID\" : songID,\n",
    "        \"SONG_URL\": songUrl,\n",
    "        \"SONG_TITLE\" : songTitle,\n",
    "        \"SONG_ARTIST\" : songArtist,\n",
    "        \"SONG_ALBUM\" : songAlbum,\n",
    "        \"SONG_YEAR\" : songYear,\n",
    "        \"SONG_IMG\" : songImage,\n",
    "        \"SONG_LYRICS\" : songLyrics\n",
    "    }\n",
    ")\n"
   ]
  },
  {
   "cell_type": "code",
   "execution_count": 241,
   "metadata": {},
   "outputs": [
    {
     "data": {
      "text/html": [
       "<div>\n",
       "<style scoped>\n",
       "    .dataframe tbody tr th:only-of-type {\n",
       "        vertical-align: middle;\n",
       "    }\n",
       "\n",
       "    .dataframe tbody tr th {\n",
       "        vertical-align: top;\n",
       "    }\n",
       "\n",
       "    .dataframe thead th {\n",
       "        text-align: right;\n",
       "    }\n",
       "</style>\n",
       "<table border=\"1\" class=\"dataframe\">\n",
       "  <thead>\n",
       "    <tr style=\"text-align: right;\">\n",
       "      <th></th>\n",
       "      <th>SONG_ID</th>\n",
       "      <th>SONG_URL</th>\n",
       "      <th>SONG_TITLE</th>\n",
       "      <th>SONG_ARTIST</th>\n",
       "      <th>SONG_ALBUM</th>\n",
       "      <th>SONG_YEAR</th>\n",
       "      <th>SONG_IMG</th>\n",
       "      <th>SONG_LYRICS</th>\n",
       "    </tr>\n",
       "  </thead>\n",
       "  <tbody>\n",
       "    <tr>\n",
       "      <th>0</th>\n",
       "      <td>299177</td>\n",
       "      <td>https://genius.com/Beyonce-drunk-in-love-lyrics</td>\n",
       "      <td>Drunk in Love</td>\n",
       "      <td>Beyoncé</td>\n",
       "      <td>BEYONCÉ</td>\n",
       "      <td>2013-12-17</td>\n",
       "      <td>https://images.genius.com/6b18da0bea43c85d9771...</td>\n",
       "      <td>[Verse 1: Beyoncé] I've been drinkin', I've be...</td>\n",
       "    </tr>\n",
       "    <tr>\n",
       "      <th>1</th>\n",
       "      <td>2419257</td>\n",
       "      <td>https://genius.com/Beyonce-formation-lyrics</td>\n",
       "      <td>Formation</td>\n",
       "      <td>Beyoncé</td>\n",
       "      <td>Lemonade</td>\n",
       "      <td>2016-02-06</td>\n",
       "      <td>https://images.genius.com/18193342e63bf90efbde...</td>\n",
       "      <td>[Intro: Messy Mya] What happened at the New Wi...</td>\n",
       "    </tr>\n",
       "    <tr>\n",
       "      <th>2</th>\n",
       "      <td>299325</td>\n",
       "      <td>https://genius.com/Beyonce-partition-lyrics</td>\n",
       "      <td>Partition</td>\n",
       "      <td>Beyoncé</td>\n",
       "      <td>BEYONCÉ</td>\n",
       "      <td>2013-12-13</td>\n",
       "      <td>https://images.genius.com/8bf0e48b6e8580d8927a...</td>\n",
       "      <td>[Part 1: \"Yoncé\"]  [Intro] Let me hear you say...</td>\n",
       "    </tr>\n",
       "    <tr>\n",
       "      <th>3</th>\n",
       "      <td>299098</td>\n",
       "      <td>https://genius.com/Beyonce-mine-lyrics</td>\n",
       "      <td>Mine</td>\n",
       "      <td>Beyoncé</td>\n",
       "      <td>BEYONCÉ</td>\n",
       "      <td>2013-12-13</td>\n",
       "      <td>https://images.genius.com/69ccd02a122de24f2f2f...</td>\n",
       "      <td>[Verse 1: Beyoncé] I've been watching for the ...</td>\n",
       "    </tr>\n",
       "    <tr>\n",
       "      <th>4</th>\n",
       "      <td>2461219</td>\n",
       "      <td>https://genius.com/Beyonce-hold-up-lyrics</td>\n",
       "      <td>Hold Up</td>\n",
       "      <td>Beyoncé</td>\n",
       "      <td>Lemonade</td>\n",
       "      <td>2016-04-23</td>\n",
       "      <td>https://images.genius.com/4c664104206b6a1246d9...</td>\n",
       "      <td>[Chorus] Hold up, they don't love you like I l...</td>\n",
       "    </tr>\n",
       "    <tr>\n",
       "      <th>...</th>\n",
       "      <td>...</td>\n",
       "      <td>...</td>\n",
       "      <td>...</td>\n",
       "      <td>...</td>\n",
       "      <td>...</td>\n",
       "      <td>...</td>\n",
       "      <td>...</td>\n",
       "      <td>...</td>\n",
       "    </tr>\n",
       "    <tr>\n",
       "      <th>378</th>\n",
       "      <td>5414672</td>\n",
       "      <td>https://genius.com/Beyonce-naughty-girl-lil-fl...</td>\n",
       "      <td>Naughty Girl (Lil Flip Remix)</td>\n",
       "      <td>Beyoncé</td>\n",
       "      <td>None</td>\n",
       "      <td>None</td>\n",
       "      <td>https://images.genius.com/6850785b48a7d1783c4f...</td>\n",
       "      <td>[Intro: Lil Flip] Ladies and gentlemen! This i...</td>\n",
       "    </tr>\n",
       "    <tr>\n",
       "      <th>379</th>\n",
       "      <td>4852408</td>\n",
       "      <td>https://genius.com/Beyonce-haunted-rodg-privat...</td>\n",
       "      <td>Haunted (Rodg Private Mix)</td>\n",
       "      <td>Beyoncé</td>\n",
       "      <td>None</td>\n",
       "      <td>2014-01-01</td>\n",
       "      <td>https://images.genius.com/6850785b48a7d1783c4f...</td>\n",
       "      <td>[x2] It's what you do, it's what you see I kno...</td>\n",
       "    </tr>\n",
       "    <tr>\n",
       "      <th>380</th>\n",
       "      <td>5465766</td>\n",
       "      <td>https://genius.com/Beyonce-ring-the-alarm-span...</td>\n",
       "      <td>Ring the Alarm (Spanglish Version)</td>\n",
       "      <td>Beyoncé</td>\n",
       "      <td>None</td>\n",
       "      <td>2008-01-03</td>\n",
       "      <td>https://images.genius.com/95611b4c3407f3b8519b...</td>\n",
       "      <td>[Refrain] Suena la alarma, seré furiosa No qui...</td>\n",
       "    </tr>\n",
       "    <tr>\n",
       "      <th>381</th>\n",
       "      <td>5120905</td>\n",
       "      <td>https://genius.com/Beyonce-green-light-hba-rem...</td>\n",
       "      <td>Green Light (HBA Remix)</td>\n",
       "      <td>Beyoncé</td>\n",
       "      <td>Swaggot Trilltape</td>\n",
       "      <td>2012-01-01</td>\n",
       "      <td>https://images.genius.com/876c5df2c5334828ff4c...</td>\n",
       "      <td>[Intro: Beyoncé] Green light  [Verse: Beyoncé]...</td>\n",
       "    </tr>\n",
       "    <tr>\n",
       "      <th>382</th>\n",
       "      <td>5234251</td>\n",
       "      <td>https://genius.com/Beyonce-sweet-dreams-ok-dac...</td>\n",
       "      <td>Sweet Dreams (OK DAC Remix)</td>\n",
       "      <td>Beyoncé</td>\n",
       "      <td>Above and Beyond</td>\n",
       "      <td>2009-01-06</td>\n",
       "      <td>https://images.genius.com/204d1fd35c8d84d63069...</td>\n",
       "      <td>[Verse 1] Every night I rush to my bed With ho...</td>\n",
       "    </tr>\n",
       "  </tbody>\n",
       "</table>\n",
       "<p>383 rows × 8 columns</p>\n",
       "</div>"
      ],
      "text/plain": [
       "     SONG_ID                                           SONG_URL  \\\n",
       "0     299177    https://genius.com/Beyonce-drunk-in-love-lyrics   \n",
       "1    2419257        https://genius.com/Beyonce-formation-lyrics   \n",
       "2     299325        https://genius.com/Beyonce-partition-lyrics   \n",
       "3     299098             https://genius.com/Beyonce-mine-lyrics   \n",
       "4    2461219          https://genius.com/Beyonce-hold-up-lyrics   \n",
       "..       ...                                                ...   \n",
       "378  5414672  https://genius.com/Beyonce-naughty-girl-lil-fl...   \n",
       "379  4852408  https://genius.com/Beyonce-haunted-rodg-privat...   \n",
       "380  5465766  https://genius.com/Beyonce-ring-the-alarm-span...   \n",
       "381  5120905  https://genius.com/Beyonce-green-light-hba-rem...   \n",
       "382  5234251  https://genius.com/Beyonce-sweet-dreams-ok-dac...   \n",
       "\n",
       "                             SONG_TITLE SONG_ARTIST         SONG_ALBUM  \\\n",
       "0                         Drunk in Love     Beyoncé            BEYONCÉ   \n",
       "1                             Formation     Beyoncé           Lemonade   \n",
       "2                             Partition     Beyoncé            BEYONCÉ   \n",
       "3                                  Mine     Beyoncé            BEYONCÉ   \n",
       "4                               Hold Up     Beyoncé           Lemonade   \n",
       "..                                  ...         ...                ...   \n",
       "378       Naughty Girl (Lil Flip Remix)     Beyoncé               None   \n",
       "379          Haunted (Rodg Private Mix)     Beyoncé               None   \n",
       "380  Ring the Alarm (Spanglish Version)     Beyoncé               None   \n",
       "381             Green Light (HBA Remix)     Beyoncé  Swaggot Trilltape   \n",
       "382         Sweet Dreams (OK DAC Remix)     Beyoncé   Above and Beyond   \n",
       "\n",
       "      SONG_YEAR                                           SONG_IMG  \\\n",
       "0    2013-12-17  https://images.genius.com/6b18da0bea43c85d9771...   \n",
       "1    2016-02-06  https://images.genius.com/18193342e63bf90efbde...   \n",
       "2    2013-12-13  https://images.genius.com/8bf0e48b6e8580d8927a...   \n",
       "3    2013-12-13  https://images.genius.com/69ccd02a122de24f2f2f...   \n",
       "4    2016-04-23  https://images.genius.com/4c664104206b6a1246d9...   \n",
       "..          ...                                                ...   \n",
       "378        None  https://images.genius.com/6850785b48a7d1783c4f...   \n",
       "379  2014-01-01  https://images.genius.com/6850785b48a7d1783c4f...   \n",
       "380  2008-01-03  https://images.genius.com/95611b4c3407f3b8519b...   \n",
       "381  2012-01-01  https://images.genius.com/876c5df2c5334828ff4c...   \n",
       "382  2009-01-06  https://images.genius.com/204d1fd35c8d84d63069...   \n",
       "\n",
       "                                           SONG_LYRICS  \n",
       "0    [Verse 1: Beyoncé] I've been drinkin', I've be...  \n",
       "1    [Intro: Messy Mya] What happened at the New Wi...  \n",
       "2    [Part 1: \"Yoncé\"]  [Intro] Let me hear you say...  \n",
       "3    [Verse 1: Beyoncé] I've been watching for the ...  \n",
       "4    [Chorus] Hold up, they don't love you like I l...  \n",
       "..                                                 ...  \n",
       "378  [Intro: Lil Flip] Ladies and gentlemen! This i...  \n",
       "379  [x2] It's what you do, it's what you see I kno...  \n",
       "380  [Refrain] Suena la alarma, seré furiosa No qui...  \n",
       "381  [Intro: Beyoncé] Green light  [Verse: Beyoncé]...  \n",
       "382  [Verse 1] Every night I rush to my bed With ho...  \n",
       "\n",
       "[383 rows x 8 columns]"
      ]
     },
     "execution_count": 241,
     "metadata": {},
     "output_type": "execute_result"
    }
   ],
   "source": [
    "df"
   ]
  },
  {
   "cell_type": "code",
   "execution_count": 242,
   "metadata": {},
   "outputs": [],
   "source": [
    "from sqlalchemy import create_engine\n",
    "engine = create_engine('sqlite:///songs_db.sqlite', echo=False)\n",
    "df.to_sql('songs', con=engine, if_exists='append', index=False)"
   ]
  },
  {
   "cell_type": "code",
   "execution_count": 11,
   "metadata": {},
   "outputs": [],
   "source": [
    "import requests\n",
    "\n",
    "def request_song_info(query_string):\n",
    "    base_url = 'https://api.genius.com'\n",
    "    headers = {'Authorization': 'Bearer ' + 'iPRpGvyPEPwHqexfQo75LsL0i2pPQxhkw-P5WStYbdvmUq-PQyf7ppCnT92Z-ZQc'}\n",
    "    search_url = base_url + '/search'\n",
    "    data = {'q': query_string}\n",
    "    response = requests.get(search_url, data=data, headers=headers)\n",
    "\n",
    "    return response"
   ]
  },
  {
   "cell_type": "code",
   "execution_count": 12,
   "metadata": {},
   "outputs": [],
   "source": [
    "def get_song_info(songid):\n",
    "    base_url = 'https://api.genius.com'\n",
    "    headers = {'Authorization': 'Bearer ' + 'iPRpGvyPEPwHqexfQo75LsL0i2pPQxhkw-P5WStYbdvmUq-PQyf7ppCnT92Z-ZQc'}\n",
    "    search_url = base_url + '/songs/' + str(songid)\n",
    "    response = requests.get(search_url, headers=headers)\n",
    "\n",
    "    return response"
   ]
  },
  {
   "cell_type": "code",
   "execution_count": 73,
   "metadata": {},
   "outputs": [],
   "source": [
    "test = request_song_info('Decks Dark by Radiohead')"
   ]
  },
  {
   "cell_type": "code",
   "execution_count": null,
   "metadata": {},
   "outputs": [],
   "source": []
  },
  {
   "cell_type": "code",
   "execution_count": 74,
   "metadata": {},
   "outputs": [
    {
     "name": "stdout",
     "output_type": "stream",
     "text": [
      "http://genius.comhttps://genius.com/Radiohead-decks-dark-lyrics\n",
      "Decks Dark by Radiohead 2469506\n",
      "http://genius.comhttps://genius.com/Drake-ovo-sound-radio-episode-44-tracklist-lyrics\n",
      "OVO Sound Radio Episode 44 Tracklist by Drake 3102958\n",
      "http://genius.comhttps://genius.com/S-connoisseur-best-tracks-of-2016-annotated\n",
      "Best Tracks of 2016 by ​s_connoisseur 2929586\n",
      "http://genius.comhttps://genius.com/Genius-lists-songs-based-on-stories-annotated\n",
      "Songs Based On Stories by Genius Lists 1357004\n",
      "http://genius.comhttps://genius.com/Survey-week-2014-popularity-poll-results-annotated\n",
      "Popularity Poll Results by Survey Week 2014 (Ft. Jason D. Morris) 349997\n",
      "http://genius.comhttps://genius.com/Genius-best-songs-of-2016-nominations-annotated\n",
      "Best Songs of 2016 Nominations by Genius 2891157\n",
      "http://genius.comhttps://genius.com/Radio-hamburg-radio-hamburg-top-825-lyrics\n",
      "Radio Hamburg TOP 825 by Radio Hamburg 409534\n",
      "http://genius.comhttps://genius.com/John-green-looking-for-alaska-annotated\n",
      "Looking For Alaska by John Green 510150\n",
      "http://genius.comhttps://genius.com/Back-beach-all-stars-living-on-a-prayer-lyrics\n",
      "Living On A Prayer by Back beach all stars 2215763\n"
     ]
    }
   ],
   "source": [
    "genius_base_url = \"http://genius.com\"\n",
    "response = request_song_info('Decks Dark by Radiohead')\n",
    "json = response.json()\n",
    "remote_song_info = None\n",
    "\n",
    "for hit in json['response']['hits']:\n",
    "        print(genius_base_url+hit['result']['url'])\n",
    "        print(hit['result']['full_title'], hit['result']['id'])\n",
    "#         if artist_name.lower() in hit['result']['primary_artist']['name'].lower():\n",
    "#             remote_song_info = hit\n",
    "#             break"
   ]
  },
  {
   "cell_type": "code",
   "execution_count": null,
   "metadata": {},
   "outputs": [],
   "source": []
  },
  {
   "cell_type": "code",
   "execution_count": 75,
   "metadata": {},
   "outputs": [
    {
     "data": {
      "text/plain": [
       "'UNKNOWN'"
      ]
     },
     "execution_count": 75,
     "metadata": {},
     "output_type": "execute_result"
    }
   ],
   "source": [
    "import requests\n",
    "\n",
    "def get_spotify_info(songid):\n",
    "    base_url = 'https://api.genius.com'\n",
    "    headers = {'Authorization': 'Bearer ' + 'iPRpGvyPEPwHqexfQo75LsL0i2pPQxhkw-P5WStYbdvmUq-PQyf7ppCnT92Z-ZQc'}\n",
    "    search_url = base_url + '/songs/' + str(songid)\n",
    "    response = requests.get(search_url, headers=headers)\n",
    "    song = response.json()\n",
    "    spotify_uri = [ a['native_uri'] for a in song['response']['song']['media'] if a['provider'] == 'spotify' ]\n",
    "    spotify_uri = spotify_uri[0] if len(spotify_uri) >= 1 else 'UNKNOWN';\n",
    "    return spotify_uri\n",
    "\n",
    "\n",
    "spotify = get_spotify_info(2469506)\n",
    "spotify"
   ]
  },
  {
   "cell_type": "code",
   "execution_count": 77,
   "metadata": {},
   "outputs": [
    {
     "data": {
      "text/plain": [
       "{'meta': {'status': 200},\n",
       " 'response': {'song': {'annotation_count': 12,\n",
       "   'api_path': '/songs/2469506',\n",
       "   'apple_music_id': '1111577965',\n",
       "   'apple_music_player_url': 'https://genius.com/songs/2469506/apple_music_player',\n",
       "   'description': {'dom': {'tag': 'root',\n",
       "     'children': [{'tag': 'p',\n",
       "       'children': ['This song continues the space narrative on ',\n",
       "        {'tag': 'em', 'children': ['A Moon Shaped Pool']},\n",
       "        '. Thom uses metaphors of a UFO and extraterrestrial matter in order to portray the questions and darkness of humanity.']},\n",
       "      '',\n",
       "      {'tag': 'p',\n",
       "       'children': ['The title “Decks Dark” would seem to allude to spaceship “decks” – the deck of a ship. In this case these decks being perhaps unmanned – dark, and lifeless.']},\n",
       "      '',\n",
       "      {'tag': 'p',\n",
       "       'children': ['This is the second Radiohead album to feature a song about the arrival of extraterrestrial spacecraft as the third track. The other is ',\n",
       "        {'tag': 'em', 'children': ['OK Computer']},\n",
       "        ' with “',\n",
       "        {'tag': 'a',\n",
       "         'attributes': {'href': 'https://genius.com/Radiohead-subterranean-homesick-alien-lyrics',\n",
       "          'rel': 'noopener'},\n",
       "         'data': {'api_path': '/songs/77297'},\n",
       "         'children': ['Subterranean Homesick Alien']},\n",
       "        '”.']},\n",
       "      '',\n",
       "      {'tag': 'p',\n",
       "       'children': ['The song is also personal for Thom. In parts, it seems as if he’s speaking directly to a woman in his past. The woman could be Rachel Owen, Thom’s former partner of 23 years. As theorized in ',\n",
       "        {'tag': 'a',\n",
       "         'attributes': {'href': 'https://genius.com/Radiohead-daydreaming-lyrics',\n",
       "          'rel': 'noopener'},\n",
       "         'data': {'api_path': '/songs/2468344'},\n",
       "         'children': ['“Daydreaming”,']},\n",
       "        ' 23 years marks “half” of Thom’s life.']}]}},\n",
       "   'embed_content': \"<div id='rg_embed_link_2469506' class='rg_embed_link' data-song-id='2469506'>Read <a href='https://genius.com/Radiohead-decks-dark-lyrics'>“Decks Dark” by Radiohead</a> on Genius</div> <script crossorigin src='//genius.com/songs/2469506/embed.js'></script>\",\n",
       "   'featured_video': False,\n",
       "   'full_title': 'Decks Dark by\\xa0Radiohead',\n",
       "   'header_image_thumbnail_url': 'https://images.genius.com/c9cf30826b50b5096664895e243253ad.300x300x1.jpg',\n",
       "   'header_image_url': 'https://images.genius.com/c9cf30826b50b5096664895e243253ad.1000x1000x1.jpg',\n",
       "   'id': 2469506,\n",
       "   'lyrics_owner_id': 104344,\n",
       "   'lyrics_placeholder_reason': None,\n",
       "   'lyrics_state': 'complete',\n",
       "   'path': '/Radiohead-decks-dark-lyrics',\n",
       "   'pyongs_count': 33,\n",
       "   'recording_location': None,\n",
       "   'release_date': '2016-05-08',\n",
       "   'release_date_for_display': 'May 8, 2016',\n",
       "   'song_art_image_thumbnail_url': 'https://images.genius.com/c9cf30826b50b5096664895e243253ad.300x300x1.jpg',\n",
       "   'song_art_image_url': 'https://images.genius.com/c9cf30826b50b5096664895e243253ad.1000x1000x1.jpg',\n",
       "   'stats': {'accepted_annotations': 9,\n",
       "    'contributors': 78,\n",
       "    'iq_earners': 76,\n",
       "    'transcribers': 5,\n",
       "    'unreviewed_annotations': 2,\n",
       "    'verified_annotations': 0,\n",
       "    'hot': False,\n",
       "    'pageviews': 219693},\n",
       "   'title': 'Decks Dark',\n",
       "   'title_with_featured': 'Decks Dark',\n",
       "   'url': 'https://genius.com/Radiohead-decks-dark-lyrics',\n",
       "   'current_user_metadata': {'permissions': ['see_pageviews',\n",
       "     'view_apple_music_player',\n",
       "     'create_comment',\n",
       "     'view_song_story_gallery'],\n",
       "    'excluded_permissions': ['follow',\n",
       "     'award_transcription_iq',\n",
       "     'remove_transcription_iq',\n",
       "     'pyong',\n",
       "     'edit_lyrics',\n",
       "     'view_annotation_engagement_data',\n",
       "     'publish',\n",
       "     'unpublish',\n",
       "     'edit_spotify_details',\n",
       "     'hide',\n",
       "     'unhide',\n",
       "     'toggle_featured_video',\n",
       "     'add_pinned_annotation_to',\n",
       "     'add_community_annotation_to',\n",
       "     'destroy',\n",
       "     'mark_as_not_spam',\n",
       "     'edit_spotify_annotations_for',\n",
       "     'verify_lyrics',\n",
       "     'unverify_lyrics',\n",
       "     'edit_anything',\n",
       "     'edit_any_media',\n",
       "     'edit',\n",
       "     'rename',\n",
       "     'edit_tags',\n",
       "     'watch_fact_track',\n",
       "     'reindex',\n",
       "     'view_lyrics_synchronization',\n",
       "     'enable_media',\n",
       "     'disable_media',\n",
       "     'edit_lyrics_or_annotation_brackets',\n",
       "     'see_editorial_indicators',\n",
       "     'view_attribution_visualization',\n",
       "     'edit_annotation_brackets',\n",
       "     'preview_lyrics_for_export',\n",
       "     'hide_apple_player',\n",
       "     'unhide_apple_player',\n",
       "     'trigger_apple_match',\n",
       "     'mark_lyrics_evaluation_as_approved',\n",
       "     'mark_lyrics_evaluation_as_staff_approved',\n",
       "     'mark_lyrics_evaluation_as_unapproved',\n",
       "     'mark_lyrics_evaluation_as_un_staff_approved',\n",
       "     'view_transcriber_media_player',\n",
       "     'override_apple_match',\n",
       "     'edit_youtube_url',\n",
       "     'edit_soundcloud_url',\n",
       "     'edit_spotify_uuid',\n",
       "     'edit_vevo_url',\n",
       "     'moderate_annotations',\n",
       "     'create_annotation',\n",
       "     'see_short_id',\n",
       "     'manage_chart_item',\n",
       "     'create_tag',\n",
       "     'propose_lyrics_edit',\n",
       "     'moderate_lyrics_edit_proposals',\n",
       "     'preview_react_song_page'],\n",
       "    'interactions': {'pyong': False, 'following': False},\n",
       "    'relationships': {},\n",
       "    'iq_by_action': {}},\n",
       "   'album': {'api_path': '/albums/151702',\n",
       "    'cover_art_url': 'https://images.genius.com/c9cf30826b50b5096664895e243253ad.1000x1000x1.jpg',\n",
       "    'full_title': 'A Moon Shaped Pool by Radiohead',\n",
       "    'id': 151702,\n",
       "    'name': 'A Moon Shaped Pool',\n",
       "    'url': 'https://genius.com/albums/Radiohead/A-moon-shaped-pool',\n",
       "    'artist': {'api_path': '/artists/604',\n",
       "     'header_image_url': 'https://images.genius.com/4bab2dfd711467b3840083b97348c82b.1000x453x1.png',\n",
       "     'id': 604,\n",
       "     'image_url': 'https://images.genius.com/b0020befa50265f3cbf1c65574a64f28.369x369x1.jpg',\n",
       "     'is_meme_verified': False,\n",
       "     'is_verified': False,\n",
       "     'name': 'Radiohead',\n",
       "     'url': 'https://genius.com/artists/Radiohead'}},\n",
       "   'custom_performances': [{'label': 'Label',\n",
       "     'artists': [{'api_path': '/artists/190108',\n",
       "       'header_image_url': 'https://images.genius.com/be286d73be51c6eb8af89584b0d8d98d.800x800x1.png',\n",
       "       'id': 190108,\n",
       "       'image_url': 'https://images.genius.com/398b584aa2111e1d5691e7e33417709f.799x799x1.png',\n",
       "       'is_meme_verified': False,\n",
       "       'is_verified': False,\n",
       "       'name': 'XL Recordings',\n",
       "       'url': 'https://genius.com/artists/Xl-recordings'}]},\n",
       "    {'label': 'Choir',\n",
       "     'artists': [{'api_path': '/artists/666656',\n",
       "       'header_image_url': 'https://images.genius.com/dded40a985e913fbd2b0b4ec91046d3b.1000x667x1.jpg',\n",
       "       'id': 666656,\n",
       "       'image_url': 'https://images.genius.com/fb61e1b5ce3184b86d6ff6680969c97e.1000x1000x1.jpg',\n",
       "       'is_meme_verified': False,\n",
       "       'is_verified': False,\n",
       "       'name': 'London Contemporary Orchestra',\n",
       "       'url': 'https://genius.com/artists/London-contemporary-orchestra'}]},\n",
       "    {'label': 'Mastered by',\n",
       "     'artists': [{'api_path': '/artists/95518',\n",
       "       'header_image_url': 'https://images.genius.com/5c562143e33d04ca4edecc7ba05ea4e4.1000x871x1.jpg',\n",
       "       'id': 95518,\n",
       "       'image_url': 'https://images.genius.com/62ef0a78a3ad1a2bc32863617d3c47b8.580x580x1.jpg',\n",
       "       'is_meme_verified': False,\n",
       "       'is_verified': False,\n",
       "       'name': 'Bob Ludwig',\n",
       "       'url': 'https://genius.com/artists/Bob-ludwig'}]},\n",
       "    {'label': 'Assistant Engineer',\n",
       "     'artists': [{'api_path': '/artists/666651',\n",
       "       'header_image_url': 'https://images.genius.com/e204bf1395ab3e8b6a1da51477c19491.1000x1000x1.jpg',\n",
       "       'id': 666651,\n",
       "       'image_url': 'https://images.genius.com/61865110b8d1b08e500a25ca9ef326f3.1000x1000x1.jpg',\n",
       "       'is_meme_verified': False,\n",
       "       'is_verified': False,\n",
       "       'name': 'Maxime Le Guil',\n",
       "       'url': 'https://genius.com/artists/Maxime-le-guil'}]},\n",
       "    {'label': 'Engineered By',\n",
       "     'artists': [{'api_path': '/artists/666650',\n",
       "       'header_image_url': 'https://images.genius.com/9eccd91f5439205ee93aafa1b9dd3d78.999x999x1.jpg',\n",
       "       'id': 666650,\n",
       "       'image_url': 'https://images.genius.com/9eccd91f5439205ee93aafa1b9dd3d78.999x999x1.jpg',\n",
       "       'is_meme_verified': False,\n",
       "       'is_verified': False,\n",
       "       'name': 'Sam Petts-Davies',\n",
       "       'url': 'https://genius.com/artists/Sam-petts-davies'},\n",
       "      {'api_path': '/artists/38556',\n",
       "       'header_image_url': 'https://images.genius.com/48d551fc8d45f4e7839431e24de2c7e7.608x405x1.jpg',\n",
       "       'id': 38556,\n",
       "       'image_url': 'https://images.genius.com/c4fad4a3c50ccfff28550e02d7a76bc7.959x1000x1.jpg',\n",
       "       'is_meme_verified': False,\n",
       "       'is_verified': False,\n",
       "       'name': 'Nigel Godrich',\n",
       "       'url': 'https://genius.com/artists/Nigel-godrich'}]}],\n",
       "   'description_annotation': {'_type': 'referent',\n",
       "    'annotator_id': 2054352,\n",
       "    'annotator_login': 'Qweerko',\n",
       "    'api_path': '/referents/9119202',\n",
       "    'classification': 'accepted',\n",
       "    'fragment': 'Decks Dark',\n",
       "    'id': 9119202,\n",
       "    'is_description': True,\n",
       "    'path': '/9119202/Radiohead-decks-dark/Decks-dark',\n",
       "    'range': {'content': 'Decks Dark'},\n",
       "    'song_id': 2469506,\n",
       "    'url': 'https://genius.com/9119202/Radiohead-decks-dark/Decks-dark',\n",
       "    'verified_annotator_ids': [],\n",
       "    'annotatable': {'api_path': '/songs/2469506',\n",
       "     'client_timestamps': {'updated_by_human_at': 1579995867,\n",
       "      'lyrics_updated_at': 1571367173},\n",
       "     'context': 'Radiohead',\n",
       "     'id': 2469506,\n",
       "     'image_url': 'https://images.genius.com/c9cf30826b50b5096664895e243253ad.1000x1000x1.jpg',\n",
       "     'link_title': 'Decks Dark by\\xa0Radiohead',\n",
       "     'title': 'Decks Dark',\n",
       "     'type': 'Song',\n",
       "     'url': 'https://genius.com/Radiohead-decks-dark-lyrics'},\n",
       "    'annotations': [{'api_path': '/annotations/9119202',\n",
       "      'body': {'dom': {'tag': 'root',\n",
       "        'children': [{'tag': 'p',\n",
       "          'children': ['This song continues the space narrative on ',\n",
       "           {'tag': 'em', 'children': ['A Moon Shaped Pool']},\n",
       "           '. Thom uses metaphors of a UFO and extraterrestrial matter in order to portray the questions and darkness of humanity.']},\n",
       "         '',\n",
       "         {'tag': 'p',\n",
       "          'children': ['The title “Decks Dark” would seem to allude to spaceship “decks” – the deck of a ship. In this case these decks being perhaps unmanned – dark, and lifeless.']},\n",
       "         '',\n",
       "         {'tag': 'p',\n",
       "          'children': ['This is the second Radiohead album to feature a song about the arrival of extraterrestrial spacecraft as the third track. The other is ',\n",
       "           {'tag': 'em', 'children': ['OK Computer']},\n",
       "           ' with “',\n",
       "           {'tag': 'a',\n",
       "            'attributes': {'href': 'https://genius.com/Radiohead-subterranean-homesick-alien-lyrics',\n",
       "             'rel': 'noopener'},\n",
       "            'data': {'api_path': '/songs/77297'},\n",
       "            'children': ['Subterranean Homesick Alien']},\n",
       "           '”.']},\n",
       "         '',\n",
       "         {'tag': 'p',\n",
       "          'children': ['The song is also personal for Thom. In parts, it seems as if he’s speaking directly to a woman in his past. The woman could be Rachel Owen, Thom’s former partner of 23 years. As theorized in ',\n",
       "           {'tag': 'a',\n",
       "            'attributes': {'href': 'https://genius.com/Radiohead-daydreaming-lyrics',\n",
       "             'rel': 'noopener'},\n",
       "            'data': {'api_path': '/songs/2468344'},\n",
       "            'children': ['“Daydreaming”,']},\n",
       "           ' 23 years marks “half” of Thom’s life.']}]}},\n",
       "      'comment_count': 5,\n",
       "      'community': True,\n",
       "      'custom_preview': None,\n",
       "      'has_voters': True,\n",
       "      'id': 9119202,\n",
       "      'pinned': False,\n",
       "      'share_url': 'https://genius.com/9119202',\n",
       "      'source': None,\n",
       "      'state': 'accepted',\n",
       "      'url': 'https://genius.com/9119202/Radiohead-decks-dark/Decks-dark',\n",
       "      'verified': False,\n",
       "      'votes_total': 92,\n",
       "      'current_user_metadata': {'permissions': ['create_comment'],\n",
       "       'excluded_permissions': ['vote',\n",
       "        'edit',\n",
       "        'cosign',\n",
       "        'uncosign',\n",
       "        'destroy',\n",
       "        'accept',\n",
       "        'reject',\n",
       "        'see_unreviewed',\n",
       "        'clear_votes',\n",
       "        'propose_edit_to',\n",
       "        'pin_to_profile',\n",
       "        'unpin_from_profile',\n",
       "        'update_source',\n",
       "        'edit_custom_preview'],\n",
       "       'interactions': {'cosign': False, 'pyong': False, 'vote': None},\n",
       "       'iq_by_action': {}},\n",
       "      'authors': [{'attribution': 0.48091603053435117,\n",
       "        'pinned_role': None,\n",
       "        'user': {'api_path': '/users/2054352',\n",
       "         'avatar': {'tiny': {'url': 'https://s3.amazonaws.com/filepicker-images-rapgenius/rotsqs6aeo',\n",
       "           'bounding_box': {'width': 16, 'height': 16}},\n",
       "          'thumb': {'url': 'https://s3.amazonaws.com/filepicker-images-rapgenius/rotsqs6aeo',\n",
       "           'bounding_box': {'width': 32, 'height': 32}},\n",
       "          'small': {'url': 'https://s3.amazonaws.com/filepicker-images-rapgenius/rotsqs6aeo',\n",
       "           'bounding_box': {'width': 100, 'height': 100}},\n",
       "          'medium': {'url': 'https://s3.amazonaws.com/filepicker-images-rapgenius/rotsqs6aeo',\n",
       "           'bounding_box': {'width': 300, 'height': 400}}},\n",
       "         'header_image_url': 'https://s3.amazonaws.com/filepicker-images-rapgenius/9zdvztlzhd',\n",
       "         'human_readable_role_for_display': 'Contributor',\n",
       "         'id': 2054352,\n",
       "         'iq': 1091,\n",
       "         'login': 'Qweerko',\n",
       "         'name': 'Qweerko',\n",
       "         'role_for_display': 'contributor',\n",
       "         'url': 'https://genius.com/Qweerko',\n",
       "         'current_user_metadata': {'permissions': [],\n",
       "          'excluded_permissions': ['follow'],\n",
       "          'interactions': {'following': False}}}},\n",
       "       {'attribution': 0.3282442748091603,\n",
       "        'pinned_role': None,\n",
       "        'user': {'api_path': '/users/3530902',\n",
       "         'avatar': {'tiny': {'url': 'https://images.genius.com/avatars/tiny/c36084d9ed13ce73983e3aa65301b5d9',\n",
       "           'bounding_box': {'width': 16, 'height': 16}},\n",
       "          'thumb': {'url': 'https://images.genius.com/avatars/thumb/c36084d9ed13ce73983e3aa65301b5d9',\n",
       "           'bounding_box': {'width': 32, 'height': 32}},\n",
       "          'small': {'url': 'https://images.genius.com/avatars/small/c36084d9ed13ce73983e3aa65301b5d9',\n",
       "           'bounding_box': {'width': 100, 'height': 100}},\n",
       "          'medium': {'url': 'https://images.genius.com/avatars/medium/c36084d9ed13ce73983e3aa65301b5d9',\n",
       "           'bounding_box': {'width': 300, 'height': 400}}},\n",
       "         'header_image_url': 'https://images.genius.com/avatars/medium/c36084d9ed13ce73983e3aa65301b5d9',\n",
       "         'human_readable_role_for_display': 'Contributor',\n",
       "         'id': 3530902,\n",
       "         'iq': 7252,\n",
       "         'login': 'EyeSeeOfficial',\n",
       "         'name': 'EyeSeeOfficial',\n",
       "         'role_for_display': 'contributor',\n",
       "         'url': 'https://genius.com/EyeSeeOfficial',\n",
       "         'current_user_metadata': {'permissions': [],\n",
       "          'excluded_permissions': ['follow'],\n",
       "          'interactions': {'following': False}}}},\n",
       "       {'attribution': 0.08396946564885496,\n",
       "        'pinned_role': None,\n",
       "        'user': {'api_path': '/users/2523967',\n",
       "         'avatar': {'tiny': {'url': 'https://s3.amazonaws.com/filepicker-images-rapgenius/ly6acxmejsk',\n",
       "           'bounding_box': {'width': 16, 'height': 16}},\n",
       "          'thumb': {'url': 'https://s3.amazonaws.com/filepicker-images-rapgenius/ly6acxmejsk',\n",
       "           'bounding_box': {'width': 32, 'height': 32}},\n",
       "          'small': {'url': 'https://s3.amazonaws.com/filepicker-images-rapgenius/ly6acxmejsk',\n",
       "           'bounding_box': {'width': 100, 'height': 100}},\n",
       "          'medium': {'url': 'https://s3.amazonaws.com/filepicker-images-rapgenius/ly6acxmejsk',\n",
       "           'bounding_box': {'width': 300, 'height': 400}}},\n",
       "         'header_image_url': 'https://s3.amazonaws.com/filepicker-images-rapgenius/sc5vst9wxz',\n",
       "         'human_readable_role_for_display': 'Editor',\n",
       "         'id': 2523967,\n",
       "         'iq': 306835,\n",
       "         'login': 'heartlessswine',\n",
       "         'name': 'heartlessswine',\n",
       "         'role_for_display': 'editor',\n",
       "         'url': 'https://genius.com/heartlessswine',\n",
       "         'current_user_metadata': {'permissions': [],\n",
       "          'excluded_permissions': ['follow'],\n",
       "          'interactions': {'following': False}}}},\n",
       "       {'attribution': 0.07633587786259542,\n",
       "        'pinned_role': None,\n",
       "        'user': {'api_path': '/users/127862',\n",
       "         'avatar': {'tiny': {'url': 'https://images.genius.com/avatars/tiny/97fd2a04f49a3707f9efe1c76cd3b292',\n",
       "           'bounding_box': {'width': 16, 'height': 16}},\n",
       "          'thumb': {'url': 'https://images.genius.com/avatars/thumb/97fd2a04f49a3707f9efe1c76cd3b292',\n",
       "           'bounding_box': {'width': 32, 'height': 32}},\n",
       "          'small': {'url': 'https://images.genius.com/avatars/small/97fd2a04f49a3707f9efe1c76cd3b292',\n",
       "           'bounding_box': {'width': 100, 'height': 100}},\n",
       "          'medium': {'url': 'https://images.genius.com/avatars/medium/97fd2a04f49a3707f9efe1c76cd3b292',\n",
       "           'bounding_box': {'width': 300, 'height': 400}}},\n",
       "         'header_image_url': 'https://images.genius.com/006697c6143f33d06ebbd245ff9d268d.1000x1000x1.jpg',\n",
       "         'human_readable_role_for_display': 'Staff',\n",
       "         'id': 127862,\n",
       "         'iq': 512219,\n",
       "         'login': 'Michael',\n",
       "         'name': 'Michael Heal',\n",
       "         'role_for_display': 'staff',\n",
       "         'url': 'https://genius.com/Michael',\n",
       "         'current_user_metadata': {'permissions': [],\n",
       "          'excluded_permissions': ['follow'],\n",
       "          'interactions': {'following': False}}}},\n",
       "       {'attribution': 0.03053435114503817,\n",
       "        'pinned_role': None,\n",
       "        'user': {'api_path': '/users/3239607',\n",
       "         'avatar': {'tiny': {'url': 'https://images.genius.com/avatars/tiny/0f894b01ec6571bc037e294ac29d60f3',\n",
       "           'bounding_box': {'width': 16, 'height': 16}},\n",
       "          'thumb': {'url': 'https://images.genius.com/avatars/thumb/0f894b01ec6571bc037e294ac29d60f3',\n",
       "           'bounding_box': {'width': 32, 'height': 32}},\n",
       "          'small': {'url': 'https://images.genius.com/avatars/small/0f894b01ec6571bc037e294ac29d60f3',\n",
       "           'bounding_box': {'width': 100, 'height': 100}},\n",
       "          'medium': {'url': 'https://images.genius.com/avatars/medium/0f894b01ec6571bc037e294ac29d60f3',\n",
       "           'bounding_box': {'width': 300, 'height': 400}}},\n",
       "         'header_image_url': 'https://images.genius.com/avatars/medium/0f894b01ec6571bc037e294ac29d60f3',\n",
       "         'human_readable_role_for_display': None,\n",
       "         'id': 3239607,\n",
       "         'iq': 199,\n",
       "         'login': 'mirability',\n",
       "         'name': 'mirability',\n",
       "         'role_for_display': None,\n",
       "         'url': 'https://genius.com/mirability',\n",
       "         'current_user_metadata': {'permissions': [],\n",
       "          'excluded_permissions': ['follow'],\n",
       "          'interactions': {'following': False}}}}],\n",
       "      'cosigned_by': [],\n",
       "      'rejection_comment': None,\n",
       "      'verified_by': None}]},\n",
       "   'featured_artists': [],\n",
       "   'lyrics_marked_complete_by': None,\n",
       "   'media': [{'provider': 'youtube',\n",
       "     'start': 0,\n",
       "     'type': 'video',\n",
       "     'url': 'http://www.youtube.com/watch?v=Del3C2W63Pk'}],\n",
       "   'primary_artist': {'api_path': '/artists/604',\n",
       "    'header_image_url': 'https://images.genius.com/4bab2dfd711467b3840083b97348c82b.1000x453x1.png',\n",
       "    'id': 604,\n",
       "    'image_url': 'https://images.genius.com/b0020befa50265f3cbf1c65574a64f28.369x369x1.jpg',\n",
       "    'is_meme_verified': False,\n",
       "    'is_verified': False,\n",
       "    'name': 'Radiohead',\n",
       "    'url': 'https://genius.com/artists/Radiohead'},\n",
       "   'producer_artists': [{'api_path': '/artists/604',\n",
       "     'header_image_url': 'https://images.genius.com/4bab2dfd711467b3840083b97348c82b.1000x453x1.png',\n",
       "     'id': 604,\n",
       "     'image_url': 'https://images.genius.com/b0020befa50265f3cbf1c65574a64f28.369x369x1.jpg',\n",
       "     'is_meme_verified': False,\n",
       "     'is_verified': False,\n",
       "     'name': 'Radiohead',\n",
       "     'url': 'https://genius.com/artists/Radiohead'},\n",
       "    {'api_path': '/artists/38556',\n",
       "     'header_image_url': 'https://images.genius.com/48d551fc8d45f4e7839431e24de2c7e7.608x405x1.jpg',\n",
       "     'id': 38556,\n",
       "     'image_url': 'https://images.genius.com/c4fad4a3c50ccfff28550e02d7a76bc7.959x1000x1.jpg',\n",
       "     'is_meme_verified': False,\n",
       "     'is_verified': False,\n",
       "     'name': 'Nigel Godrich',\n",
       "     'url': 'https://genius.com/artists/Nigel-godrich'}],\n",
       "   'song_relationships': [{'relationship_type': 'samples',\n",
       "     'type': 'samples',\n",
       "     'songs': []},\n",
       "    {'relationship_type': 'sampled_in', 'type': 'sampled_in', 'songs': []},\n",
       "    {'relationship_type': 'interpolates', 'type': 'interpolates', 'songs': []},\n",
       "    {'relationship_type': 'interpolated_by',\n",
       "     'type': 'interpolated_by',\n",
       "     'songs': []},\n",
       "    {'relationship_type': 'cover_of', 'type': 'cover_of', 'songs': []},\n",
       "    {'relationship_type': 'covered_by', 'type': 'covered_by', 'songs': []},\n",
       "    {'relationship_type': 'remix_of', 'type': 'remix_of', 'songs': []},\n",
       "    {'relationship_type': 'remixed_by', 'type': 'remixed_by', 'songs': []},\n",
       "    {'relationship_type': 'live_version_of',\n",
       "     'type': 'live_version_of',\n",
       "     'songs': []},\n",
       "    {'relationship_type': 'performed_live_as',\n",
       "     'type': 'performed_live_as',\n",
       "     'songs': []}],\n",
       "   'verified_annotations_by': [],\n",
       "   'verified_contributors': [],\n",
       "   'verified_lyrics_by': [],\n",
       "   'writer_artists': [{'api_path': '/artists/240814',\n",
       "     'header_image_url': 'https://images.genius.com/9e6719373646ab54435a491b18e1d3cf.1000x1000x1.jpg',\n",
       "     'id': 240814,\n",
       "     'image_url': 'https://images.genius.com/6df7ca7bb0f06547c61f8e743e2328cc.400x400x1.png',\n",
       "     'is_meme_verified': False,\n",
       "     'is_verified': False,\n",
       "     'name': 'Philip Selway',\n",
       "     'url': 'https://genius.com/artists/Philip-selway'},\n",
       "    {'api_path': '/artists/664806',\n",
       "     'header_image_url': 'https://images.genius.com/5f33d85cba292b6da293c9bb681ae3e2.790x395x1.png',\n",
       "     'id': 664806,\n",
       "     'image_url': 'https://images.genius.com/71e93dd473bf8b015cf83f815c99c761.1000x1000x1.jpg',\n",
       "     'is_meme_verified': False,\n",
       "     'is_verified': False,\n",
       "     'name': 'Ed O’Brien',\n",
       "     'url': 'https://genius.com/artists/Ed-obrien'},\n",
       "    {'api_path': '/artists/664805',\n",
       "     'header_image_url': 'https://images.genius.com/9e6719373646ab54435a491b18e1d3cf.1000x1000x1.jpg',\n",
       "     'id': 664805,\n",
       "     'image_url': 'https://images.genius.com/b76359a51308bf2fe26eaf0dc08e1fd6.360x360x1.jpg',\n",
       "     'is_meme_verified': False,\n",
       "     'is_verified': False,\n",
       "     'name': 'Colin Greenwood',\n",
       "     'url': 'https://genius.com/artists/Colin-greenwood'},\n",
       "    {'api_path': '/artists/287476',\n",
       "     'header_image_url': 'https://images.genius.com/1148d6bbce428c7d413df087c2ff6b28.550x375x1.jpg',\n",
       "     'id': 287476,\n",
       "     'image_url': 'https://images.genius.com/65579cfc118f384b21b4134d4e5fe003.767x767x1.jpg',\n",
       "     'is_meme_verified': False,\n",
       "     'is_verified': False,\n",
       "     'name': 'Jonny Greenwood',\n",
       "     'url': 'https://genius.com/artists/Jonny-greenwood'},\n",
       "    {'api_path': '/artists/49096',\n",
       "     'header_image_url': 'https://images.genius.com/1205903e7e902c8957ca99c32497f4d7.1000x427x1.jpg',\n",
       "     'id': 49096,\n",
       "     'image_url': 'https://images.genius.com/c6a772ce9fa875e8efef7505cae0105c.1000x1000x1.jpg',\n",
       "     'is_meme_verified': False,\n",
       "     'is_verified': False,\n",
       "     'name': 'Thom Yorke',\n",
       "     'url': 'https://genius.com/artists/Thom-yorke'}]}}}"
      ]
     },
     "execution_count": 77,
     "metadata": {},
     "output_type": "execute_result"
    }
   ],
   "source": [
    "song_info = get_song_info(2469506)\n",
    "song_info.json()"
   ]
  },
  {
   "cell_type": "code",
   "execution_count": null,
   "metadata": {},
   "outputs": [],
   "source": []
  },
  {
   "cell_type": "code",
   "execution_count": null,
   "metadata": {},
   "outputs": [],
   "source": []
  },
  {
   "cell_type": "code",
   "execution_count": 72,
   "metadata": {},
   "outputs": [
    {
     "data": {
      "text/plain": [
       "'6RX5iL93VZ5fKmyvNXvF1r'"
      ]
     },
     "execution_count": 72,
     "metadata": {},
     "output_type": "execute_result"
    }
   ],
   "source": [
    "spotify.replace('spotify:track:', '')"
   ]
  },
  {
   "cell_type": "code",
   "execution_count": null,
   "metadata": {},
   "outputs": [],
   "source": []
  },
  {
   "cell_type": "code",
   "execution_count": 69,
   "metadata": {},
   "outputs": [],
   "source": [
    "\n",
    "GENIUS_API_KEY = 'iPRpGvyPEPwHqexfQo75LsL0i2pPQxhkw-P5WStYbdvmUq-PQyf7ppCnT92Z-ZQc'\n",
    "genius_base_url = 'https://api.genius.com'\n",
    "headers = {'Authorization': 'Bearer ' + GENIUS_API_KEY}"
   ]
  },
  {
   "cell_type": "code",
   "execution_count": null,
   "metadata": {},
   "outputs": [],
   "source": []
  },
  {
   "cell_type": "code",
   "execution_count": null,
   "metadata": {},
   "outputs": [],
   "source": []
  },
  {
   "cell_type": "code",
   "execution_count": null,
   "metadata": {},
   "outputs": [],
   "source": []
  },
  {
   "cell_type": "code",
   "execution_count": null,
   "metadata": {},
   "outputs": [],
   "source": []
  },
  {
   "cell_type": "code",
   "execution_count": null,
   "metadata": {},
   "outputs": [],
   "source": []
  },
  {
   "cell_type": "code",
   "execution_count": null,
   "metadata": {},
   "outputs": [],
   "source": []
  },
  {
   "cell_type": "code",
   "execution_count": null,
   "metadata": {},
   "outputs": [],
   "source": []
  },
  {
   "cell_type": "code",
   "execution_count": null,
   "metadata": {},
   "outputs": [],
   "source": []
  },
  {
   "cell_type": "code",
   "execution_count": 58,
   "metadata": {},
   "outputs": [
    {
     "data": {
      "text/plain": [
       "[]"
      ]
     },
     "execution_count": 58,
     "metadata": {},
     "output_type": "execute_result"
    }
   ],
   "source": [
    "response"
   ]
  },
  {
   "cell_type": "code",
   "execution_count": null,
   "metadata": {},
   "outputs": [],
   "source": []
  },
  {
   "cell_type": "code",
   "execution_count": null,
   "metadata": {},
   "outputs": [],
   "source": []
  },
  {
   "cell_type": "code",
   "execution_count": null,
   "metadata": {},
   "outputs": [],
   "source": []
  },
  {
   "cell_type": "code",
   "execution_count": null,
   "metadata": {},
   "outputs": [],
   "source": []
  },
  {
   "cell_type": "code",
   "execution_count": 54,
   "metadata": {},
   "outputs": [
    {
     "data": {
      "text/plain": [
       "'spotify:track:6RX5iL93VZ5fKmyvNXvF1r'"
      ]
     },
     "execution_count": 54,
     "metadata": {},
     "output_type": "execute_result"
    }
   ],
   "source": [
    "response"
   ]
  },
  {
   "cell_type": "code",
   "execution_count": null,
   "metadata": {},
   "outputs": [],
   "source": []
  },
  {
   "cell_type": "code",
   "execution_count": null,
   "metadata": {},
   "outputs": [],
   "source": []
  },
  {
   "cell_type": "code",
   "execution_count": null,
   "metadata": {},
   "outputs": [],
   "source": []
  },
  {
   "cell_type": "code",
   "execution_count": null,
   "metadata": {},
   "outputs": [],
   "source": []
  },
  {
   "cell_type": "code",
   "execution_count": null,
   "metadata": {},
   "outputs": [],
   "source": []
  },
  {
   "cell_type": "code",
   "execution_count": 44,
   "metadata": {},
   "outputs": [
    {
     "data": {
      "text/plain": [
       "['spotify:track:6RX5iL93VZ5fKmyvNXvF1r']"
      ]
     },
     "execution_count": 44,
     "metadata": {},
     "output_type": "execute_result"
    }
   ],
   "source": [
    "a"
   ]
  },
  {
   "cell_type": "code",
   "execution_count": null,
   "metadata": {},
   "outputs": [],
   "source": []
  },
  {
   "cell_type": "code",
   "execution_count": null,
   "metadata": {},
   "outputs": [],
   "source": []
  },
  {
   "cell_type": "code",
   "execution_count": null,
   "metadata": {},
   "outputs": [],
   "source": []
  },
  {
   "cell_type": "code",
   "execution_count": null,
   "metadata": {},
   "outputs": [],
   "source": []
  },
  {
   "cell_type": "code",
   "execution_count": null,
   "metadata": {},
   "outputs": [],
   "source": []
  },
  {
   "cell_type": "code",
   "execution_count": null,
   "metadata": {},
   "outputs": [],
   "source": []
  },
  {
   "cell_type": "code",
   "execution_count": null,
   "metadata": {},
   "outputs": [],
   "source": []
  },
  {
   "cell_type": "code",
   "execution_count": null,
   "metadata": {},
   "outputs": [],
   "source": []
  },
  {
   "cell_type": "code",
   "execution_count": null,
   "metadata": {},
   "outputs": [],
   "source": []
  },
  {
   "cell_type": "code",
   "execution_count": null,
   "metadata": {},
   "outputs": [],
   "source": []
  },
  {
   "cell_type": "code",
   "execution_count": null,
   "metadata": {},
   "outputs": [],
   "source": []
  },
  {
   "cell_type": "code",
   "execution_count": null,
   "metadata": {},
   "outputs": [],
   "source": []
  },
  {
   "cell_type": "code",
   "execution_count": null,
   "metadata": {},
   "outputs": [],
   "source": []
  },
  {
   "cell_type": "code",
   "execution_count": null,
   "metadata": {},
   "outputs": [],
   "source": []
  },
  {
   "cell_type": "code",
   "execution_count": null,
   "metadata": {},
   "outputs": [],
   "source": []
  },
  {
   "cell_type": "code",
   "execution_count": null,
   "metadata": {},
   "outputs": [],
   "source": []
  },
  {
   "cell_type": "code",
   "execution_count": null,
   "metadata": {},
   "outputs": [],
   "source": []
  },
  {
   "cell_type": "code",
   "execution_count": null,
   "metadata": {},
   "outputs": [],
   "source": []
  },
  {
   "cell_type": "code",
   "execution_count": null,
   "metadata": {},
   "outputs": [],
   "source": []
  },
  {
   "cell_type": "code",
   "execution_count": null,
   "metadata": {},
   "outputs": [],
   "source": []
  },
  {
   "cell_type": "code",
   "execution_count": null,
   "metadata": {},
   "outputs": [],
   "source": []
  },
  {
   "cell_type": "code",
   "execution_count": null,
   "metadata": {},
   "outputs": [],
   "source": []
  },
  {
   "cell_type": "code",
   "execution_count": null,
   "metadata": {},
   "outputs": [],
   "source": []
  },
  {
   "cell_type": "code",
   "execution_count": null,
   "metadata": {},
   "outputs": [],
   "source": []
  },
  {
   "cell_type": "code",
   "execution_count": 10,
   "metadata": {},
   "outputs": [
    {
     "data": {
      "text/plain": [
       "'/Beyonce-irreplaceable-lyrics'"
      ]
     },
     "execution_count": 10,
     "metadata": {},
     "output_type": "execute_result"
    }
   ],
   "source": [
    "response = get_song_info(2441980)\n",
    "json = response.json()\n",
    "song_path = json['response']['song']['path']\n",
    "song_path"
   ]
  },
  {
   "cell_type": "code",
   "execution_count": 12,
   "metadata": {},
   "outputs": [
    {
     "name": "stdout",
     "output_type": "stream",
     "text": [
      "  [Intro] To the left, to the left To the left, to the left (Mmm)  [Verse 1] To the left, to the left Everything you own in the box to the left In the closet, that's my stuff Yes, if I bought it, please don't touch (Don't touch) And keep talking that mess that's fine But could you walk and talk at the same time And, it's my name that's on that jag So remove your bags, let me call you a cab  [Pre-Chorus] Standing in the front yard Tellin' me, how I'm such a fool Talkin' 'bout, how I'll never ever find a man like you You got me twisted  [Chorus] You must not know about me, you must not know about me I could have another you in a minute Matter of fact, he'll be here in a minute, baby You must not know about me, you must not know about me I can have another you by tomorrow So don't you ever for a second get to thinking You're irreplaceable  [Verse 2] So go ahead and get gone Call up that chick and see if she's home Oops, I bet you thought, that I didn't know What did you think I was putting you out for? 'Cause you was untrue Rollin' her around in the car that I bought you Baby, drop them keys Hurry up before your taxi leaves  [Pre-Chorus] Standing in the front yard Tellin' me, how I'm such a fool Talkin' 'bout, how I'll never ever find a man like you You got me twisted  [Chorus] You must not know about me, you must not know about me I could have another you in a minute Matter of fact, he'll be here in a minute, baby You must not know about me, you must not know about me I will have another you by tomorrow So don't you ever for a second get to thinking You're irreplaceable (Irreplaceable)  [Bridge] So since I'm not your everything (Irreplaceable) How about I'll be nothing (Nothing) Nothing at all to you (Nothing) Baby, I won't shed a tear for you (I won't shed a tear) I won't lose a wink of sleep 'Cause the truth of the matter is Replacing you was so easy  [Interlude] To the left, to the left To the left, to the left (Mmm) To the left, to the left Everything you own in the box to the left To the left, to the left Don't you ever for a second get to thinking You're irreplaceable  [Chorus] You must not know about me, you must not know about me I could have another you in a minute Matter of fact, he'll be here in a minute, baby You must not know about me, you must not know about me I can have another you by tomorrow So don't you ever for a second get to thinking (Baby) You must not know about me, you must not know about me I could have another you in a minute Matter of fact, he'll be here in a minute You can pack all your bags (You must not know about me) We're finished (You must not know about me) 'Cause you made your bed Now lay in it I can have another you by tomorrow Don't you ever for a second get to thinking You're irreplaceable  \n"
     ]
    }
   ],
   "source": [
    "page_url = \"http://genius.com\"\n",
    "lyrics_url=song_path\n",
    "response = requests.get(page_url+lyrics_url, headers=headers)\n",
    "soup = BeautifulSoup(response.text, 'html.parser')\n",
    "lyrics = soup.find('div', class_='lyrics').get_text()\n",
    "lyrics = lyrics.replace('\\n', ' ').replace('\\r', ' ')\n",
    "print(lyrics)"
   ]
  },
  {
   "cell_type": "code",
   "execution_count": 14,
   "metadata": {},
   "outputs": [
    {
     "data": {
      "text/plain": [
       "\"   To the left, to the left To the left, to the left (Mmm)   To the left, to the left Everything you own in the box to the left In the closet, that's my stuff Yes, if I bought it, please don't touch (Don't touch) And keep talking that mess that's fine But could you walk and talk at the same time And, it's my name that's on that jag So remove your bags, let me call you a cab   Standing in the front yard Tellin' me, how I'm such a fool Talkin' 'bout, how I'll never ever find a man like you You got me twisted   You must not know about me, you must not know about me I could have another you in a minute Matter of fact, he'll be here in a minute, baby You must not know about me, you must not know about me I can have another you by tomorrow So don't you ever for a second get to thinking You're irreplaceable   So go ahead and get gone Call up that chick and see if she's home Oops, I bet you thought, that I didn't know What did you think I was putting you out for? 'Cause you was untrue Rollin' her around in the car that I bought you Baby, drop them keys Hurry up before your taxi leaves   Standing in the front yard Tellin' me, how I'm such a fool Talkin' 'bout, how I'll never ever find a man like you You got me twisted   You must not know about me, you must not know about me I could have another you in a minute Matter of fact, he'll be here in a minute, baby You must not know about me, you must not know about me I will have another you by tomorrow So don't you ever for a second get to thinking You're irreplaceable (Irreplaceable)   So since I'm not your everything (Irreplaceable) How about I'll be nothing (Nothing) Nothing at all to you (Nothing) Baby, I won't shed a tear for you (I won't shed a tear) I won't lose a wink of sleep 'Cause the truth of the matter is Replacing you was so easy   To the left, to the left To the left, to the left (Mmm) To the left, to the left Everything you own in the box to the left To the left, to the left Don't you ever for a second get to thinking You're irreplaceable   You must not know about me, you must not know about me I could have another you in a minute Matter of fact, he'll be here in a minute, baby You must not know about me, you must not know about me I can have another you by tomorrow So don't you ever for a second get to thinking (Baby) You must not know about me, you must not know about me I could have another you in a minute Matter of fact, he'll be here in a minute You can pack all your bags (You must not know about me) We're finished (You must not know about me) 'Cause you made your bed Now lay in it I can have another you by tomorrow Don't you ever for a second get to thinking You're irreplaceable  \""
      ]
     },
     "execution_count": 14,
     "metadata": {},
     "output_type": "execute_result"
    }
   ],
   "source": [
    "import re\n",
    "pattern = r'\\[.*?\\]'\n",
    "s = \"\"\"Issachar is a rawboned[a] donkey lying down among the sheep pens.[b]\"\"\"\n",
    "re.sub(pattern, '', lyrics)"
   ]
  },
  {
   "cell_type": "code",
   "execution_count": 53,
   "metadata": {},
   "outputs": [],
   "source": [
    "base_url = 'https://api.genius.com'\n",
    "headers = {'Authorization': 'Bearer ' + 'iPRpGvyPEPwHqexfQo75LsL0i2pPQxhkw-P5WStYbdvmUq-PQyf7ppCnT92Z-ZQc'}\n",
    "search_url = base_url + '/songs/2441980'\n",
    "response = requests.get(search_url, headers=headers)"
   ]
  },
  {
   "cell_type": "code",
   "execution_count": 81,
   "metadata": {},
   "outputs": [],
   "source": [
    "class Song:\n",
    "    def __init__(self, id, title, artist, url, album, year, image, lyrics ):\n",
    "        self.id = id\n",
    "        self.title = title\n",
    "        self.artist = artist\n",
    "        self.url = url\n",
    "        self.album = album\n",
    "        self.year = year\n",
    "        self.image = image\n",
    "        self.lyrics = lyrics"
   ]
  },
  {
   "cell_type": "code",
   "execution_count": 85,
   "metadata": {},
   "outputs": [
    {
     "data": {
      "text/plain": [
       "dict_keys(['annotation_count', 'api_path', 'apple_music_id', 'apple_music_player_url', 'description', 'embed_content', 'featured_video', 'full_title', 'header_image_thumbnail_url', 'header_image_url', 'id', 'lyrics_owner_id', 'lyrics_placeholder_reason', 'lyrics_state', 'path', 'pyongs_count', 'recording_location', 'release_date', 'release_date_for_display', 'song_art_image_thumbnail_url', 'song_art_image_url', 'stats', 'title', 'title_with_featured', 'url', 'current_user_metadata', 'album', 'custom_performances', 'description_annotation', 'featured_artists', 'lyrics_marked_complete_by', 'media', 'primary_artist', 'producer_artists', 'song_relationships', 'verified_annotations_by', 'verified_contributors', 'verified_lyrics_by', 'writer_artists'])"
      ]
     },
     "execution_count": 85,
     "metadata": {},
     "output_type": "execute_result"
    }
   ],
   "source": [
    "song['response']['song'].keys()"
   ]
  },
  {
   "cell_type": "code",
   "execution_count": 92,
   "metadata": {},
   "outputs": [],
   "source": [
    "song = response.json()\n",
    "id = song['response']['song']['id']\n",
    "title = song['response']['song']['title']\n",
    "artist = song['response']['song']['primary_artist']['name']\n",
    "artist_img = song['response']['song']['primary_artist']['image_url']\n",
    "url = song['response']['song']['url']\n",
    "album = song['response']['song']['album']['name']\n",
    "year = song['response']['song']['release_date']\n",
    "song_image = song['response']['song']['song_art_image_thumbnail_url']\n",
    "lyrics = song['response']['song']['title']"
   ]
  },
  {
   "cell_type": "code",
   "execution_count": null,
   "metadata": {},
   "outputs": [],
   "source": []
  }
 ],
 "metadata": {
  "kernelspec": {
   "display_name": "Python 3",
   "language": "python",
   "name": "python3"
  },
  "language_info": {
   "codemirror_mode": {
    "name": "ipython",
    "version": 3
   },
   "file_extension": ".py",
   "mimetype": "text/x-python",
   "name": "python",
   "nbconvert_exporter": "python",
   "pygments_lexer": "ipython3",
   "version": "3.8.1"
  }
 },
 "nbformat": 4,
 "nbformat_minor": 4
}
