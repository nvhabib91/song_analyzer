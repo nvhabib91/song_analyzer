{
 "cells": [
  {
   "cell_type": "code",
   "execution_count": 30,
   "metadata": {},
   "outputs": [],
   "source": [
    "from bs4 import BeautifulSoup\n",
    "import requests"
   ]
  },
  {
   "cell_type": "code",
   "execution_count": 42,
   "metadata": {},
   "outputs": [
    {
     "data": {
      "text/plain": [
       "\"   Mum mum mum mah Mum mum mum mah Mum mum mum mah Mum mum mum mah Mum mum mum mah  I wanna hold 'em like they do in Texas, please Fold 'em, let 'em, hit me, raise it, baby, stay with me (I love it) Love game intuition play the cards with Spades to start And after he's been hooked I'll play the one that's on his heart  Oh, oh, oh, oh, oh, oh-oh-e-oh-oh-oh I'll get him hot, show him what I've got Oh, oh, oh, oh, oh, oh-oh-e-oh-oh-oh, I'll get him hot, show him what I've got  [Chorus:] Can't read my, Can't read my No he can't read my poker face (she's got me like nobody) Can't read my Can't read my No he can't read my poker face (she's got me like nobody)  P-p-p-poker face, p-p-poker face (Mum mum mum mah) P-p-p-poker face, p-p-poker face (Mum mum mum mah)  I wanna roll with him a hard pair we will be A little gambling is fun when you're with me (I love it) Russian Roulette is not the same without a gun And baby when it's love if it's not rough it isn't fun, fun  Oh, oh, oh, oh, oh, oh-oh-e-oh-oh-oh I'll get him hot, show him what I've got Oh, oh, oh, oh, oh, oh-oh-e-oh-oh-oh, I'll get him hot, show him what I've got  [Chorus]  P-p-p-poker face, p-p-poker face (Mum mum mum mah) P-p-p-poker face, p-p-poker face (Mum mum mum mah) (Mum mum mum mah) (Mum mum mum mah)  I won't tell you that I love you Kiss or hug you Cause I'm bluffin' with my muffin I'm not lying, I'm just stunnin' with my love-glue-gunning Just like a chick in the casino Take your bank before I pay you out I promise this, promise this Check this hand cause I'm marvelous  [Chorus 3x]  [3x] P-p-p-poker face, p-p-poker face (Mum mum mum mah) P-p-p-poker face, p-p-poker face (Mum mum mum mah) \""
      ]
     },
     "execution_count": 42,
     "metadata": {},
     "output_type": "execute_result"
    }
   ],
   "source": [
    "from bs4 import BeautifulSoup\n",
    "import requests\n",
    "lyrics_url = \"https://www.azlyrics.com/lyrics/ladygaga/pokerface.html\"\n",
    "response = requests.get(lyrics_url)\n",
    "soup = BeautifulSoup(response.text, 'lxml')\n",
    "lyrics = soup.find('div', class_=None).text\n",
    "lyrics = lyrics.replace('\\n', ' ').replace('\\r', ' ')\n",
    "lyrics"
   ]
  }
 ],
 "metadata": {
  "kernelspec": {
   "display_name": "Python 3",
   "language": "python",
   "name": "python3"
  },
  "language_info": {
   "codemirror_mode": {
    "name": "ipython",
    "version": 3
   },
   "file_extension": ".py",
   "mimetype": "text/x-python",
   "name": "python",
   "nbconvert_exporter": "python",
   "pygments_lexer": "ipython3",
   "version": "3.8.1"
  }
 },
 "nbformat": 4,
 "nbformat_minor": 4
}
