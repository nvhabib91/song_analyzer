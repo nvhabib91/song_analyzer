{
 "cells": [
  {
   "cell_type": "code",
   "execution_count": 1,
   "metadata": {},
   "outputs": [],
   "source": [
    "from wordcloud import WordCloud\n",
    "import imageio\n",
    "import sys, os\n",
    "import numpy as np\n",
    "import requests\n",
    "import json\n",
    "from flask import Flask, jsonify, render_template, request, redirect, url_for\n",
    "from flask import abort\n",
    "from bs4 import BeautifulSoup\n",
    "\n",
    "\n",
    "from textblob import TextBlob\n",
    "from textblob import Word\n",
    "from textblob.sentiments import NaiveBayesAnalyzer\n",
    "from pathlib import Path\n",
    "import nltk\n",
    "from nltk.corpus import stopwords\n",
    "from operator import itemgetter\n",
    "import pandas as pd\n",
    "import matplotlib.pyplot as plt\n",
    "import imageio\n",
    "from wordcloud import WordCloud\n",
    "from PIL import Image\n",
    "import re, datetime\n",
    "import shutil\n",
    "import nltk\n",
    "from nltk.tokenize import RegexpTokenizer\n",
    "from nltk.corpus import stopwords\n",
    "import re"
   ]
  },
  {
   "cell_type": "code",
   "execution_count": 2,
   "metadata": {},
   "outputs": [],
   "source": [
    "import nltk\n",
    "from nltk.tokenize import RegexpTokenizer\n",
    "from nltk.corpus import stopwords\n",
    "import re"
   ]
  },
  {
   "cell_type": "code",
   "execution_count": 37,
   "metadata": {},
   "outputs": [],
   "source": [
    "from nltk.stem import WordNetLemmatizer"
   ]
  },
  {
   "cell_type": "code",
   "execution_count": 3,
   "metadata": {},
   "outputs": [],
   "source": [
    "GENIUS_API_KEY = 'iPRpGvyPEPwHqexfQo75LsL0i2pPQxhkw-P5WStYbdvmUq-PQyf7ppCnT92Z-ZQc'\n",
    "genius_base_url = 'https://api.genius.com'\n",
    "headers = {'Authorization': 'Bearer ' + GENIUS_API_KEY}"
   ]
  },
  {
   "cell_type": "code",
   "execution_count": 4,
   "metadata": {},
   "outputs": [],
   "source": [
    "nrc_df = pd.read_csv(\"static/data/NRC-Emotion-Lexicon-v0.92.csv\")"
   ]
  },
  {
   "cell_type": "code",
   "execution_count": 5,
   "metadata": {},
   "outputs": [
    {
     "data": {
      "text/html": [
       "<div>\n",
       "<style scoped>\n",
       "    .dataframe tbody tr th:only-of-type {\n",
       "        vertical-align: middle;\n",
       "    }\n",
       "\n",
       "    .dataframe tbody tr th {\n",
       "        vertical-align: top;\n",
       "    }\n",
       "\n",
       "    .dataframe thead th {\n",
       "        text-align: right;\n",
       "    }\n",
       "</style>\n",
       "<table border=\"1\" class=\"dataframe\">\n",
       "  <thead>\n",
       "    <tr style=\"text-align: right;\">\n",
       "      <th></th>\n",
       "      <th>Word</th>\n",
       "      <th>Positive</th>\n",
       "      <th>Negative</th>\n",
       "      <th>Anger</th>\n",
       "      <th>Anticipation</th>\n",
       "      <th>Disgust</th>\n",
       "      <th>Fear</th>\n",
       "      <th>Joy</th>\n",
       "      <th>Sadness</th>\n",
       "      <th>Surprise</th>\n",
       "      <th>Trust</th>\n",
       "    </tr>\n",
       "  </thead>\n",
       "  <tbody>\n",
       "    <tr>\n",
       "      <th>0</th>\n",
       "      <td>aback</td>\n",
       "      <td>0</td>\n",
       "      <td>0</td>\n",
       "      <td>0</td>\n",
       "      <td>0</td>\n",
       "      <td>0</td>\n",
       "      <td>0</td>\n",
       "      <td>0</td>\n",
       "      <td>0</td>\n",
       "      <td>0</td>\n",
       "      <td>0</td>\n",
       "    </tr>\n",
       "    <tr>\n",
       "      <th>1</th>\n",
       "      <td>abacus</td>\n",
       "      <td>0</td>\n",
       "      <td>0</td>\n",
       "      <td>0</td>\n",
       "      <td>0</td>\n",
       "      <td>0</td>\n",
       "      <td>0</td>\n",
       "      <td>0</td>\n",
       "      <td>0</td>\n",
       "      <td>0</td>\n",
       "      <td>1</td>\n",
       "    </tr>\n",
       "    <tr>\n",
       "      <th>2</th>\n",
       "      <td>abandon</td>\n",
       "      <td>0</td>\n",
       "      <td>1</td>\n",
       "      <td>0</td>\n",
       "      <td>0</td>\n",
       "      <td>0</td>\n",
       "      <td>1</td>\n",
       "      <td>0</td>\n",
       "      <td>1</td>\n",
       "      <td>0</td>\n",
       "      <td>0</td>\n",
       "    </tr>\n",
       "    <tr>\n",
       "      <th>3</th>\n",
       "      <td>abandoned</td>\n",
       "      <td>0</td>\n",
       "      <td>1</td>\n",
       "      <td>1</td>\n",
       "      <td>0</td>\n",
       "      <td>0</td>\n",
       "      <td>1</td>\n",
       "      <td>0</td>\n",
       "      <td>1</td>\n",
       "      <td>0</td>\n",
       "      <td>0</td>\n",
       "    </tr>\n",
       "    <tr>\n",
       "      <th>4</th>\n",
       "      <td>abandonment</td>\n",
       "      <td>0</td>\n",
       "      <td>1</td>\n",
       "      <td>1</td>\n",
       "      <td>0</td>\n",
       "      <td>0</td>\n",
       "      <td>1</td>\n",
       "      <td>0</td>\n",
       "      <td>1</td>\n",
       "      <td>1</td>\n",
       "      <td>0</td>\n",
       "    </tr>\n",
       "    <tr>\n",
       "      <th>...</th>\n",
       "      <td>...</td>\n",
       "      <td>...</td>\n",
       "      <td>...</td>\n",
       "      <td>...</td>\n",
       "      <td>...</td>\n",
       "      <td>...</td>\n",
       "      <td>...</td>\n",
       "      <td>...</td>\n",
       "      <td>...</td>\n",
       "      <td>...</td>\n",
       "      <td>...</td>\n",
       "    </tr>\n",
       "    <tr>\n",
       "      <th>14177</th>\n",
       "      <td>zone</td>\n",
       "      <td>0</td>\n",
       "      <td>0</td>\n",
       "      <td>0</td>\n",
       "      <td>0</td>\n",
       "      <td>0</td>\n",
       "      <td>0</td>\n",
       "      <td>0</td>\n",
       "      <td>0</td>\n",
       "      <td>0</td>\n",
       "      <td>0</td>\n",
       "    </tr>\n",
       "    <tr>\n",
       "      <th>14178</th>\n",
       "      <td>zoo</td>\n",
       "      <td>0</td>\n",
       "      <td>0</td>\n",
       "      <td>0</td>\n",
       "      <td>0</td>\n",
       "      <td>0</td>\n",
       "      <td>0</td>\n",
       "      <td>0</td>\n",
       "      <td>0</td>\n",
       "      <td>0</td>\n",
       "      <td>0</td>\n",
       "    </tr>\n",
       "    <tr>\n",
       "      <th>14179</th>\n",
       "      <td>zoological</td>\n",
       "      <td>0</td>\n",
       "      <td>0</td>\n",
       "      <td>0</td>\n",
       "      <td>0</td>\n",
       "      <td>0</td>\n",
       "      <td>0</td>\n",
       "      <td>0</td>\n",
       "      <td>0</td>\n",
       "      <td>0</td>\n",
       "      <td>0</td>\n",
       "    </tr>\n",
       "    <tr>\n",
       "      <th>14180</th>\n",
       "      <td>zoology</td>\n",
       "      <td>0</td>\n",
       "      <td>0</td>\n",
       "      <td>0</td>\n",
       "      <td>0</td>\n",
       "      <td>0</td>\n",
       "      <td>0</td>\n",
       "      <td>0</td>\n",
       "      <td>0</td>\n",
       "      <td>0</td>\n",
       "      <td>0</td>\n",
       "    </tr>\n",
       "    <tr>\n",
       "      <th>14181</th>\n",
       "      <td>zoom</td>\n",
       "      <td>0</td>\n",
       "      <td>0</td>\n",
       "      <td>0</td>\n",
       "      <td>0</td>\n",
       "      <td>0</td>\n",
       "      <td>0</td>\n",
       "      <td>0</td>\n",
       "      <td>0</td>\n",
       "      <td>0</td>\n",
       "      <td>0</td>\n",
       "    </tr>\n",
       "  </tbody>\n",
       "</table>\n",
       "<p>14182 rows × 11 columns</p>\n",
       "</div>"
      ],
      "text/plain": [
       "              Word  Positive  Negative  Anger  Anticipation  Disgust  Fear  \\\n",
       "0            aback         0         0      0             0        0     0   \n",
       "1           abacus         0         0      0             0        0     0   \n",
       "2          abandon         0         1      0             0        0     1   \n",
       "3        abandoned         0         1      1             0        0     1   \n",
       "4      abandonment         0         1      1             0        0     1   \n",
       "...            ...       ...       ...    ...           ...      ...   ...   \n",
       "14177         zone         0         0      0             0        0     0   \n",
       "14178          zoo         0         0      0             0        0     0   \n",
       "14179   zoological         0         0      0             0        0     0   \n",
       "14180      zoology         0         0      0             0        0     0   \n",
       "14181         zoom         0         0      0             0        0     0   \n",
       "\n",
       "       Joy  Sadness  Surprise  Trust  \n",
       "0        0        0         0      0  \n",
       "1        0        0         0      1  \n",
       "2        0        1         0      0  \n",
       "3        0        1         0      0  \n",
       "4        0        1         1      0  \n",
       "...    ...      ...       ...    ...  \n",
       "14177    0        0         0      0  \n",
       "14178    0        0         0      0  \n",
       "14179    0        0         0      0  \n",
       "14180    0        0         0      0  \n",
       "14181    0        0         0      0  \n",
       "\n",
       "[14182 rows x 11 columns]"
      ]
     },
     "execution_count": 5,
     "metadata": {},
     "output_type": "execute_result"
    }
   ],
   "source": [
    "nrc_df"
   ]
  },
  {
   "cell_type": "code",
   "execution_count": 38,
   "metadata": {},
   "outputs": [],
   "source": [
    "lemmatizer = WordNetLemmatizer()"
   ]
  },
  {
   "cell_type": "code",
   "execution_count": 5,
   "metadata": {},
   "outputs": [],
   "source": [
    "def get_song_details(song_id):\n",
    "    song_dict = {}\n",
    "\n",
    "    # Get song metadata\n",
    "    search_url = genius_base_url + '/songs/' + str(song_id)\n",
    "    response = requests.get(search_url, headers=headers)\n",
    "    song = response.json()\n",
    "    song_dict['id'] = song['response']['song']['id']\n",
    "    song_dict['title'] = song['response']['song']['title']\n",
    "    song_dict['artist'] = song['response']['song']['primary_artist']['name']\n",
    "    song_dict['artist_image'] = song['response']['song']['primary_artist']['image_url']\n",
    "    song_dict['url'] = song['response']['song']['url']\n",
    "    song_dict['album'] = song['response']['song']['album']['name']\n",
    "    song_dict['year'] = song['response']['song']['release_date']\n",
    "    song_dict['song_image'] = song['response']['song']['song_art_image_thumbnail_url']\n",
    "\n",
    "    # Get song lyrics\n",
    "    response = requests.get(song['response']['song']['url'], headers=headers)\n",
    "    soup = BeautifulSoup(response.text, 'html.parser')\n",
    "    lyrics = soup.find('div', class_='lyrics').get_text()\n",
    "    lyrics = lyrics.replace('\\n', ' ').replace('\\r', ' ')\n",
    "    lyrics = re.sub(r'\\[.*?\\]', '', lyrics)\n",
    "    song_dict['lyrics'] = lyrics\n",
    "    # print(song_dict)\n",
    "    return song_dict"
   ]
  },
  {
   "cell_type": "code",
   "execution_count": 39,
   "metadata": {},
   "outputs": [],
   "source": [
    "def preprocess(lyrics_input):\n",
    "    lyrics = str(lyrics_input)\n",
    "    lyrics = lyrics.lower()\n",
    "    lyrics = lyrics.replace('{html}', \"\")\n",
    "    cleanr = re.compile('<.*?>')\n",
    "    cleantext = re.sub(cleanr, '', lyrics)\n",
    "    rem_url = re.sub(r'http\\S+', '', cleantext)\n",
    "    rem_num = re.sub('[0-9]+', '', rem_url)\n",
    "    tokenizer = RegexpTokenizer(r'\\w+')\n",
    "    tokens = tokenizer.tokenize(rem_num)\n",
    "    filtered_words = [w for w in tokens if len( w) > 2 if not w in stopwords.words('english')]\n",
    "    lemma_words = [lemmatizer.lemmatize(w) for w in filtered_words]\n",
    "    return \" \".join(lemma_words)"
   ]
  },
  {
   "cell_type": "code",
   "execution_count": 18,
   "metadata": {},
   "outputs": [],
   "source": [
    "song_data_dict = get_song_details(66508)"
   ]
  },
  {
   "cell_type": "code",
   "execution_count": 28,
   "metadata": {},
   "outputs": [
    {
     "data": {
      "text/plain": [
       "\"   we can remember swimmin' in december headin' for the city lights in 1975 we're sharin' each other, nearer than farther the scent of a lemon drips from your eyes   we are the people that rule the world a force running in every boy and girl all rejoicing in the world take me now, we can try   we lived an adventure, love in the summer followed the sun 'til night, reminiscing other times of life for each every other the feeling was stronger the shock hit eleven, we got lost in your eyes   i can't do well when i think you're gonna leave me but i know i try are you gonna leave me now? can't you be believin' now? i can't do well when i think you're gonna leave me but i know i try are you gonna leave me now? can't you be believin' now?   can you remember and humanize? it was still where we'd energize lie in the sand and visualize like it's '75 again   we are the people that rule the world a force running in every boy and girl all rejoicing in the world take me now, we can try   i can't do well when i think you're gonna leave me but i know i try are you gonna leave me now? can't you be believin' now? i can't do well when i think you're gonna leave me but i know i try are you gonna leave me now? can't you be believin' now?   i know everything about you you know everything about me we know everything about us i know everything about you you know everything about me we know everything about us   i can't do well when i think you're gonna leave me but i know i try are you gonna leave me now? can't you be believin' now? i can't do well when i think you're gonna leave me but i know i try are you gonna leave me now? can't you be believin' now? i can't do well when i think you're gonna leave me but i know i try are you gonna leave me now? can't you be believin' now?  \""
      ]
     },
     "execution_count": 28,
     "metadata": {},
     "output_type": "execute_result"
    }
   ],
   "source": [
    "lyrics = song_data_dict['lyrics']\n",
    "lyrics = lyrics.lower()\n",
    "lyrics"
   ]
  },
  {
   "cell_type": "code",
   "execution_count": 40,
   "metadata": {},
   "outputs": [
    {
     "data": {
      "text/plain": [
       "'remember swimmin december headin city light sharin nearer farther scent lemon drip eye people rule world force running every boy girl rejoicing world take try lived adventure love summer followed sun til night reminiscing time life every feeling stronger shock hit eleven got lost eye well think gonna leave know try gonna leave believin well think gonna leave know try gonna leave believin remember humanize still energize lie sand visualize like people rule world force running every boy girl rejoicing world take try well think gonna leave know try gonna leave believin well think gonna leave know try gonna leave believin know everything know everything know everything know everything know everything know everything well think gonna leave know try gonna leave believin well think gonna leave know try gonna leave believin well think gonna leave know try gonna leave believin'"
      ]
     },
     "execution_count": 40,
     "metadata": {},
     "output_type": "execute_result"
    }
   ],
   "source": [
    "lyrics = preprocess(lyrics)\n",
    "lyrics"
   ]
  },
  {
   "cell_type": "code",
   "execution_count": 32,
   "metadata": {},
   "outputs": [
    {
     "data": {
      "text/plain": [
       "['remember swimmin december headin city lights sharin nearer farther scent lemon drips eyes people rule world force running every boy girl rejoicing world take try lived adventure love summer followed sun til night reminiscing times life every feeling stronger shock hit eleven got lost eyes well think gonna leave know try gonna leave believin well think gonna leave know try gonna leave believin remember humanize still energize lie sand visualize like people rule world force running every boy girl rejoicing world take try well think gonna leave know try gonna leave believin well think gonna leave know try gonna leave believin know everything know everything know everything know everything know everything know everything well think gonna leave know try gonna leave believin well think gonna leave know try gonna leave believin well think gonna leave know try gonna leave believin']"
      ]
     },
     "execution_count": 32,
     "metadata": {},
     "output_type": "execute_result"
    }
   ],
   "source": [
    "tokens=RegexpTokenizer(r'\\w+').tokenize(lyrics)\n",
    "raw = lyrics.replace('/^$/g', '').split('/[^-\\w]+/');\n",
    "raw"
   ]
  },
  {
   "cell_type": "code",
   "execution_count": 44,
   "metadata": {},
   "outputs": [
    {
     "data": {
      "text/plain": [
       "TextBlob(\"remember swimmin december headin city light sharin nearer farther scent lemon drip eye people rule world force running every boy girl rejoicing world take try lived adventure love summer followed sun til night reminiscing time life every feeling stronger shock hit eleven got lost eye well think gonna leave know try gonna leave believin well think gonna leave know try gonna leave believin remember humanize still energize lie sand visualize like people rule world force running every boy girl rejoicing world take try well think gonna leave know try gonna leave believin well think gonna leave know try gonna leave believin know everything know everything know everything know everything know everything know everything well think gonna leave know try gonna leave believin well think gonna leave know try gonna leave believin well think gonna leave know try gonna leave believin\")"
      ]
     },
     "execution_count": 44,
     "metadata": {},
     "output_type": "execute_result"
    }
   ],
   "source": [
    "song_lyrics = TextBlob(lyrics)\n",
    "# lyricss = lyrics.word_counts.items()\n",
    "# sorted(lyricss, key=itemgetter(1), reverse=True)\n",
    "song_lyrics"
   ]
  },
  {
   "cell_type": "code",
   "execution_count": 12,
   "metadata": {},
   "outputs": [],
   "source": [
    "def build_nrc_sentiment(lyrics_input):\n",
    "    tokens=RegexpTokenizer(r'\\w+').tokenize(lyrics_input)\n",
    "    lyrics_df=pd.DataFrame(tokens, columns=['Word'])\n",
    "    lyrics_df=lyrics_df.merge(nrc_df, how=\"inner\", on=\"Word\")\n",
    "    lyrics_df=lyrics_df.drop(columns=[\"Word\"])\n",
    "    results_df=pd.DataFrame(lyrics_df.sum())\n",
    "    return results_df.to_dict()[0]"
   ]
  },
  {
   "cell_type": "code",
   "execution_count": 16,
   "metadata": {},
   "outputs": [
    {
     "data": {
      "text/plain": [
       "{'Positive': 10,\n",
       " 'Negative': 6,\n",
       " 'Anger': 2,\n",
       " 'Anticipation': 4,\n",
       " 'Disgust': 2,\n",
       " 'Fear': 1,\n",
       " 'Joy': 7,\n",
       " 'Sadness': 2,\n",
       " 'Surprise': 1,\n",
       " 'Trust': 6}"
      ]
     },
     "execution_count": 16,
     "metadata": {},
     "output_type": "execute_result"
    }
   ],
   "source": [
    "build_nrc_sentiment(lyrics)"
   ]
  },
  {
   "cell_type": "code",
   "execution_count": 19,
   "metadata": {},
   "outputs": [],
   "source": [
    "lyrics_df=pd.DataFrame(tokens, columns=['Word'])"
   ]
  },
  {
   "cell_type": "code",
   "execution_count": 20,
   "metadata": {},
   "outputs": [],
   "source": [
    "lyrics_df = lyrics_df.merge(nrc_df, how=\"inner\", on=\"Word\")\n",
    "lyrics_df = lyrics_df.drop(columns=[\"Word\"])"
   ]
  },
  {
   "cell_type": "code",
   "execution_count": 54,
   "metadata": {},
   "outputs": [],
   "source": [
    "results_df= pd.DataFrame(lyrics_df.sum(),columns=['Weight'])"
   ]
  },
  {
   "cell_type": "code",
   "execution_count": 60,
   "metadata": {},
   "outputs": [],
   "source": [
    "results_df.sort_values(by=['Weight'], ascending=False, inplace=True)"
   ]
  },
  {
   "cell_type": "code",
   "execution_count": 61,
   "metadata": {},
   "outputs": [
    {
     "data": {
      "text/html": [
       "<div>\n",
       "<style scoped>\n",
       "    .dataframe tbody tr th:only-of-type {\n",
       "        vertical-align: middle;\n",
       "    }\n",
       "\n",
       "    .dataframe tbody tr th {\n",
       "        vertical-align: top;\n",
       "    }\n",
       "\n",
       "    .dataframe thead th {\n",
       "        text-align: right;\n",
       "    }\n",
       "</style>\n",
       "<table border=\"1\" class=\"dataframe\">\n",
       "  <thead>\n",
       "    <tr style=\"text-align: right;\">\n",
       "      <th></th>\n",
       "      <th>Weight</th>\n",
       "    </tr>\n",
       "  </thead>\n",
       "  <tbody>\n",
       "    <tr>\n",
       "      <th>Positive</th>\n",
       "      <td>10</td>\n",
       "    </tr>\n",
       "    <tr>\n",
       "      <th>Joy</th>\n",
       "      <td>7</td>\n",
       "    </tr>\n",
       "    <tr>\n",
       "      <th>Negative</th>\n",
       "      <td>6</td>\n",
       "    </tr>\n",
       "    <tr>\n",
       "      <th>Trust</th>\n",
       "      <td>6</td>\n",
       "    </tr>\n",
       "    <tr>\n",
       "      <th>Anticipation</th>\n",
       "      <td>4</td>\n",
       "    </tr>\n",
       "    <tr>\n",
       "      <th>Anger</th>\n",
       "      <td>2</td>\n",
       "    </tr>\n",
       "    <tr>\n",
       "      <th>Disgust</th>\n",
       "      <td>2</td>\n",
       "    </tr>\n",
       "    <tr>\n",
       "      <th>Sadness</th>\n",
       "      <td>2</td>\n",
       "    </tr>\n",
       "    <tr>\n",
       "      <th>Fear</th>\n",
       "      <td>1</td>\n",
       "    </tr>\n",
       "    <tr>\n",
       "      <th>Surprise</th>\n",
       "      <td>1</td>\n",
       "    </tr>\n",
       "  </tbody>\n",
       "</table>\n",
       "</div>"
      ],
      "text/plain": [
       "              Weight\n",
       "Positive          10\n",
       "Joy                7\n",
       "Negative           6\n",
       "Trust              6\n",
       "Anticipation       4\n",
       "Anger              2\n",
       "Disgust            2\n",
       "Sadness            2\n",
       "Fear               1\n",
       "Surprise           1"
      ]
     },
     "execution_count": 61,
     "metadata": {},
     "output_type": "execute_result"
    }
   ],
   "source": [
    "results_df"
   ]
  },
  {
   "cell_type": "code",
   "execution_count": 63,
   "metadata": {},
   "outputs": [
    {
     "data": {
      "text/plain": [
       "['Positive',\n",
       " 'Joy',\n",
       " 'Negative',\n",
       " 'Trust',\n",
       " 'Anticipation',\n",
       " 'Anger',\n",
       " 'Disgust',\n",
       " 'Sadness',\n",
       " 'Fear',\n",
       " 'Surprise']"
      ]
     },
     "execution_count": 63,
     "metadata": {},
     "output_type": "execute_result"
    }
   ],
   "source": [
    "list(results_df.to_dict()['Weight'].keys())"
   ]
  },
  {
   "cell_type": "code",
   "execution_count": 64,
   "metadata": {},
   "outputs": [
    {
     "data": {
      "text/plain": [
       "dict_values([10, 7, 6, 6, 4, 2, 2, 2, 1, 1])"
      ]
     },
     "execution_count": 64,
     "metadata": {},
     "output_type": "execute_result"
    }
   ],
   "source": [
    "results_df.to_dict()['Weight'].values()"
   ]
  },
  {
   "cell_type": "code",
   "execution_count": 66,
   "metadata": {},
   "outputs": [],
   "source": [
    "final = {}\n",
    "final['Sentiment'] = list(results_df.to_dict()['Weight'].keys())\n",
    "final['Weight'] = list(results_df.to_dict()['Weight'].values())"
   ]
  },
  {
   "cell_type": "code",
   "execution_count": 67,
   "metadata": {},
   "outputs": [
    {
     "data": {
      "text/plain": [
       "{'Sentiment': ['Positive',\n",
       "  'Joy',\n",
       "  'Negative',\n",
       "  'Trust',\n",
       "  'Anticipation',\n",
       "  'Anger',\n",
       "  'Disgust',\n",
       "  'Sadness',\n",
       "  'Fear',\n",
       "  'Surprise'],\n",
       " 'Weight': [10, 7, 6, 6, 4, 2, 2, 2, 1, 1]}"
      ]
     },
     "execution_count": 67,
     "metadata": {},
     "output_type": "execute_result"
    }
   ],
   "source": [
    "final"
   ]
  },
  {
   "cell_type": "code",
   "execution_count": null,
   "metadata": {},
   "outputs": [],
   "source": []
  }
 ],
 "metadata": {
  "kernelspec": {
   "display_name": "Python 3",
   "language": "python",
   "name": "python3"
  },
  "language_info": {
   "codemirror_mode": {
    "name": "ipython",
    "version": 3
   },
   "file_extension": ".py",
   "mimetype": "text/x-python",
   "name": "python",
   "nbconvert_exporter": "python",
   "pygments_lexer": "ipython3",
   "version": "3.8.1"
  }
 },
 "nbformat": 4,
 "nbformat_minor": 4
}
