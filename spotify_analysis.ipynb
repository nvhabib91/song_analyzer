{
 "cells": [
  {
   "cell_type": "code",
   "execution_count": 1,
   "metadata": {},
   "outputs": [],
   "source": [
    "import re, datetime, sys, os\n",
    "import imageio\n",
    "import json\n",
    "import matplotlib.pyplot as plt\n",
    "import nltk\n",
    "import numpy as np\n",
    "import pandas as pd\n",
    "import requests\n",
    "\n",
    "import spotipy\n",
    "from spotipy.oauth2 import SpotifyClientCredentials\n",
    "\n",
    "from bs4 import BeautifulSoup\n",
    "from nltk.corpus import stopwords\n",
    "from nltk.tokenize import RegexpTokenizer\n",
    "from operator import itemgetter\n",
    "from pathlib import Path\n",
    "from textblob import TextBlob, Word\n",
    "from textblob.sentiments import NaiveBayesAnalyzer\n",
    "from wordcloud import WordCloud\n",
    "import pprint"
   ]
  },
  {
   "cell_type": "code",
   "execution_count": 2,
   "metadata": {},
   "outputs": [
    {
     "ename": "NameError",
     "evalue": "name 'sp' is not defined",
     "output_type": "error",
     "traceback": [
      "\u001b[1;31m---------------------------------------------------------------------------\u001b[0m",
      "\u001b[1;31mNameError\u001b[0m                                 Traceback (most recent call last)",
      "\u001b[1;32m<ipython-input-2-1884b35c5925>\u001b[0m in \u001b[0;36m<module>\u001b[1;34m\u001b[0m\n\u001b[1;32m----> 1\u001b[1;33m \u001b[0mresult\u001b[0m \u001b[1;33m=\u001b[0m \u001b[0msp\u001b[0m\u001b[1;33m.\u001b[0m\u001b[0msearch\u001b[0m\u001b[1;33m(\u001b[0m\u001b[1;34m\"asdfasdfa\"\u001b[0m\u001b[1;33m,\u001b[0m \u001b[0mlimit\u001b[0m\u001b[1;33m=\u001b[0m\u001b[1;36m1\u001b[0m\u001b[1;33m,\u001b[0m \u001b[0mtype\u001b[0m\u001b[1;33m=\u001b[0m\u001b[1;34m'track'\u001b[0m\u001b[1;33m)\u001b[0m\u001b[1;33m\u001b[0m\u001b[1;33m\u001b[0m\u001b[0m\n\u001b[0m",
      "\u001b[1;31mNameError\u001b[0m: name 'sp' is not defined"
     ]
    }
   ],
   "source": [
    "\n",
    "result = sp.search(\"asdfasdfa\", limit=1, type='track')\n"
   ]
  },
  {
   "cell_type": "code",
   "execution_count": null,
   "metadata": {},
   "outputs": [],
   "source": [
    "\n",
    "try:\n",
    "    result = sp.search(\"Planet P Project Pink World\", limit=1, type='track')\n",
    "    a = result['tracks']['items'][0]\n",
    "    print(a)\n",
    "except:\n",
    "    print(\"UNKNOWN\")\n",
    "    "
   ]
  },
  {
   "cell_type": "code",
   "execution_count": 39,
   "metadata": {},
   "outputs": [],
   "source": [
    "result = sp.search(\"Temptations - I'm Losing You\", limit=1, type='track')\n",
    "a = result['tracks']['items'][0]\n",
    "spotify_id = a['id']"
   ]
  },
  {
   "cell_type": "code",
   "execution_count": null,
   "metadata": {},
   "outputs": [],
   "source": []
  },
  {
   "cell_type": "code",
   "execution_count": 40,
   "metadata": {},
   "outputs": [
    {
     "data": {
      "text/plain": [
       "'6y8o4V2R2dSt2ijgL8C72W'"
      ]
     },
     "execution_count": 40,
     "metadata": {},
     "output_type": "execute_result"
    }
   ],
   "source": [
    "spotify_id"
   ]
  },
  {
   "cell_type": "code",
   "execution_count": 3,
   "metadata": {},
   "outputs": [],
   "source": [
    "# From Sam\n",
    "def get_track_audio_feautures(track_id):\n",
    "    track_results = sp.audio_features(track_id)\n",
    "    danceability=track_results[0]['danceability']\n",
    "    energy = track_results[0]['energy']\n",
    "    key = (track_results[0]['key'])\n",
    "    loudness = track_results[0]['loudness']\n",
    "    mode = track_results[0]['mode']\n",
    "    speechiness = track_results[0]['speechiness']\n",
    "    acousticness= track_results[0]['acousticness']\n",
    "    instrumentalness = track_results[0]['instrumentalness']\n",
    "    liveness = track_results[0]['liveness']\n",
    "    valence = track_results[0]['valence']\n",
    "    tempo = track_results[0]['tempo']\n",
    "    track_href = track_results[0]['track_href']\n",
    "    analysis_url = track_results[0]['analysis_url']\n",
    "    time_signature = track_results[0]['time_signature']\n",
    "    table = pd.DataFrame({'Danceability':danceability,\n",
    "                          'Energy':energy,\n",
    "                          'Key':key,\n",
    "                          'Loudness':loudness,\n",
    "                          'Mode': mode,\n",
    "                          'Speechiness':speechiness,\n",
    "                          'Acousticness': acousticness,\n",
    "                          'Instrumentalness':instrumentalness,\n",
    "                          'Liveness': liveness,\n",
    "                          'Valence':valence,\n",
    "                          'Tempo':tempo,\n",
    "                          'Time Signature':time_signature,\n",
    "                          'Track Link':track_href,\n",
    "                          'Spotify Analysis':analysis_url\n",
    "                         },\n",
    "                          index=[0])\n",
    "    return(table)"
   ]
  },
  {
   "cell_type": "code",
   "execution_count": null,
   "metadata": {},
   "outputs": [],
   "source": [
    "test = get_track_audio_feautures('6RX5iL93VZ5fKmyvNXvF1r')"
   ]
  },
  {
   "cell_type": "code",
   "execution_count": null,
   "metadata": {},
   "outputs": [],
   "source": [
    "test"
   ]
  },
  {
   "cell_type": "code",
   "execution_count": null,
   "metadata": {},
   "outputs": [],
   "source": [
    "test = sp.artist('6RX5iL93VZ5fKmyvNXvF1r')"
   ]
  },
  {
   "cell_type": "markdown",
   "metadata": {},
   "source": [
    "### Set up Spotify Credentials and functions"
   ]
  },
  {
   "cell_type": "code",
   "execution_count": 4,
   "metadata": {},
   "outputs": [],
   "source": [
    "SPOTIPY_CLIENT_ID ='d0e9cdee463948d8985ec7d7c5ce0aac'\n",
    "SPOTIPY_CLIENT_SECRET ='d864675d0b5d407f913d94a50c6cf7a5'\n",
    "client_credentials_manager = SpotifyClientCredentials(client_id=SPOTIPY_CLIENT_ID, client_secret=SPOTIPY_CLIENT_SECRET)\n",
    "sp = spotipy.Spotify(client_credentials_manager=client_credentials_manager)"
   ]
  },
  {
   "cell_type": "code",
   "execution_count": 5,
   "metadata": {},
   "outputs": [],
   "source": [
    "def get_spotify_id(search):\n",
    "    try:\n",
    "        result = sp.search(search, limit=1, type='track')\n",
    "        a = result['tracks']['items'][0]\n",
    "        spotify_id = a['id']\n",
    "        return spotify_id\n",
    "    except: \n",
    "        return None"
   ]
  },
  {
   "cell_type": "code",
   "execution_count": 7,
   "metadata": {},
   "outputs": [
    {
     "data": {
      "text/plain": [
       "'1uXbwHHfgsXcUKfSZw5ZJ0'"
      ]
     },
     "execution_count": 7,
     "metadata": {},
     "output_type": "execute_result"
    }
   ],
   "source": [
    "get_spotify_id('Beyonce run the world')"
   ]
  },
  {
   "cell_type": "markdown",
   "metadata": {},
   "source": [
    "### Load CAL10K Data Set for Training"
   ]
  },
  {
   "cell_type": "code",
   "execution_count": 1,
   "metadata": {},
   "outputs": [
    {
     "ename": "NameError",
     "evalue": "name 'pd' is not defined",
     "output_type": "error",
     "traceback": [
      "\u001b[1;31m---------------------------------------------------------------------------\u001b[0m",
      "\u001b[1;31mNameError\u001b[0m                                 Traceback (most recent call last)",
      "\u001b[1;32m<ipython-input-1-623c1e44c51a>\u001b[0m in \u001b[0;36m<module>\u001b[1;34m\u001b[0m\n\u001b[1;32m----> 1\u001b[1;33m \u001b[0mcal10k\u001b[0m \u001b[1;33m=\u001b[0m \u001b[0mpd\u001b[0m\u001b[1;33m.\u001b[0m\u001b[0mread_csv\u001b[0m\u001b[1;33m(\u001b[0m\u001b[1;34m'analysis_data_sources/CAL10K_genre_noAudioFeatures.txt'\u001b[0m\u001b[1;33m,\u001b[0m \u001b[0msep\u001b[0m\u001b[1;33m=\u001b[0m\u001b[1;34m'\\t'\u001b[0m\u001b[1;33m,\u001b[0m\u001b[0mheader\u001b[0m\u001b[1;33m=\u001b[0m\u001b[1;32mNone\u001b[0m\u001b[1;33m,\u001b[0m\u001b[0mnames\u001b[0m\u001b[1;33m=\u001b[0m\u001b[1;33m[\u001b[0m\u001b[1;34m'Song'\u001b[0m\u001b[1;33m,\u001b[0m \u001b[1;34m'Genre'\u001b[0m\u001b[1;33m]\u001b[0m\u001b[1;33m)\u001b[0m\u001b[1;33m\u001b[0m\u001b[1;33m\u001b[0m\u001b[0m\n\u001b[0m",
      "\u001b[1;31mNameError\u001b[0m: name 'pd' is not defined"
     ]
    }
   ],
   "source": [
    "cal10k = pd.read_csv('analysis_data_sources/CAL10K_genre_noAudioFeatures.txt', sep='\\t',header=None,names=['Song', 'Genre'])"
   ]
  },
  {
   "cell_type": "code",
   "execution_count": 69,
   "metadata": {},
   "outputs": [
    {
     "data": {
      "text/html": [
       "<div>\n",
       "<style scoped>\n",
       "    .dataframe tbody tr th:only-of-type {\n",
       "        vertical-align: middle;\n",
       "    }\n",
       "\n",
       "    .dataframe tbody tr th {\n",
       "        vertical-align: top;\n",
       "    }\n",
       "\n",
       "    .dataframe thead th {\n",
       "        text-align: right;\n",
       "    }\n",
       "</style>\n",
       "<table border=\"1\" class=\"dataframe\">\n",
       "  <thead>\n",
       "    <tr style=\"text-align: right;\">\n",
       "      <th></th>\n",
       "      <th>Song</th>\n",
       "      <th>Genre</th>\n",
       "      <th>Spotify_ID</th>\n",
       "      <th>danceability</th>\n",
       "      <th>energy</th>\n",
       "      <th>key</th>\n",
       "      <th>loudness</th>\n",
       "      <th>mode</th>\n",
       "      <th>speechiness</th>\n",
       "      <th>acousticness</th>\n",
       "      <th>instrumentalness</th>\n",
       "      <th>liveness</th>\n",
       "      <th>valence</th>\n",
       "      <th>tempo</th>\n",
       "      <th>duration_ms</th>\n",
       "      <th>time_signature</th>\n",
       "    </tr>\n",
       "  </thead>\n",
       "  <tbody>\n",
       "    <tr>\n",
       "      <th>0</th>\n",
       "      <td>Luther Vandross - If Only For One Night</td>\n",
       "      <td>adult contemporary</td>\n",
       "      <td>2p4WnpR3H16ywshkL2Fp1n</td>\n",
       "      <td>0.498000</td>\n",
       "      <td>0.249000</td>\n",
       "      <td>9.000000</td>\n",
       "      <td>-13.619000</td>\n",
       "      <td>0.000000</td>\n",
       "      <td>0.035500</td>\n",
       "      <td>0.755000</td>\n",
       "      <td>0.000009</td>\n",
       "      <td>0.092700</td>\n",
       "      <td>0.193000</td>\n",
       "      <td>110.636000</td>\n",
       "      <td>256240.000000</td>\n",
       "      <td>4.000000</td>\n",
       "    </tr>\n",
       "    <tr>\n",
       "      <th>1</th>\n",
       "      <td>Duran Duran - Come Undone</td>\n",
       "      <td>adult contemporary</td>\n",
       "      <td>0yfNXxlyXdmP0ue1iJijx1</td>\n",
       "      <td>0.542000</td>\n",
       "      <td>0.793000</td>\n",
       "      <td>8.000000</td>\n",
       "      <td>-8.203000</td>\n",
       "      <td>1.000000</td>\n",
       "      <td>0.053000</td>\n",
       "      <td>0.042300</td>\n",
       "      <td>0.000004</td>\n",
       "      <td>0.081400</td>\n",
       "      <td>0.708000</td>\n",
       "      <td>173.931000</td>\n",
       "      <td>256520.000000</td>\n",
       "      <td>4.000000</td>\n",
       "    </tr>\n",
       "    <tr>\n",
       "      <th>2</th>\n",
       "      <td>Tears For Fears - Shout</td>\n",
       "      <td>adult contemporary</td>\n",
       "      <td>2gQaQUhDCNGfBVXTvxAmXQ</td>\n",
       "      <td>0.511000</td>\n",
       "      <td>0.942000</td>\n",
       "      <td>0.000000</td>\n",
       "      <td>-10.407000</td>\n",
       "      <td>1.000000</td>\n",
       "      <td>0.042900</td>\n",
       "      <td>0.174000</td>\n",
       "      <td>0.000019</td>\n",
       "      <td>0.139000</td>\n",
       "      <td>0.498000</td>\n",
       "      <td>97.909000</td>\n",
       "      <td>393667.000000</td>\n",
       "      <td>4.000000</td>\n",
       "    </tr>\n",
       "    <tr>\n",
       "      <th>3</th>\n",
       "      <td>Marvin Gaye - Sexual healing</td>\n",
       "      <td>adult contemporary</td>\n",
       "      <td>3VZmChrnVW8JK6ano4gSED</td>\n",
       "      <td>0.805000</td>\n",
       "      <td>0.601000</td>\n",
       "      <td>0.000000</td>\n",
       "      <td>-9.700000</td>\n",
       "      <td>0.000000</td>\n",
       "      <td>0.057900</td>\n",
       "      <td>0.119000</td>\n",
       "      <td>0.000129</td>\n",
       "      <td>0.058100</td>\n",
       "      <td>0.746000</td>\n",
       "      <td>94.382000</td>\n",
       "      <td>238600.000000</td>\n",
       "      <td>4.000000</td>\n",
       "    </tr>\n",
       "    <tr>\n",
       "      <th>4</th>\n",
       "      <td>Jack Johnson - Better Together</td>\n",
       "      <td>adult contemporary</td>\n",
       "      <td>4VywXu6umkIQ2OS0m1I79y</td>\n",
       "      <td>0.868000</td>\n",
       "      <td>0.347000</td>\n",
       "      <td>5.000000</td>\n",
       "      <td>-9.529000</td>\n",
       "      <td>1.000000</td>\n",
       "      <td>0.053600</td>\n",
       "      <td>0.308000</td>\n",
       "      <td>0.000020</td>\n",
       "      <td>0.110000</td>\n",
       "      <td>0.659000</td>\n",
       "      <td>110.059000</td>\n",
       "      <td>207680.000000</td>\n",
       "      <td>4.000000</td>\n",
       "    </tr>\n",
       "  </tbody>\n",
       "</table>\n",
       "</div>"
      ],
      "text/plain": [
       "                                      Song               Genre  \\\n",
       "0  Luther Vandross - If Only For One Night  adult contemporary   \n",
       "1                Duran Duran - Come Undone  adult contemporary   \n",
       "2                  Tears For Fears - Shout  adult contemporary   \n",
       "3             Marvin Gaye - Sexual healing  adult contemporary   \n",
       "4           Jack Johnson - Better Together  adult contemporary   \n",
       "\n",
       "               Spotify_ID danceability    energy       key    loudness  \\\n",
       "0  2p4WnpR3H16ywshkL2Fp1n     0.498000  0.249000  9.000000  -13.619000   \n",
       "1  0yfNXxlyXdmP0ue1iJijx1     0.542000  0.793000  8.000000   -8.203000   \n",
       "2  2gQaQUhDCNGfBVXTvxAmXQ     0.511000  0.942000  0.000000  -10.407000   \n",
       "3  3VZmChrnVW8JK6ano4gSED     0.805000  0.601000  0.000000   -9.700000   \n",
       "4  4VywXu6umkIQ2OS0m1I79y     0.868000  0.347000  5.000000   -9.529000   \n",
       "\n",
       "       mode speechiness acousticness instrumentalness  liveness   valence  \\\n",
       "0  0.000000    0.035500     0.755000         0.000009  0.092700  0.193000   \n",
       "1  1.000000    0.053000     0.042300         0.000004  0.081400  0.708000   \n",
       "2  1.000000    0.042900     0.174000         0.000019  0.139000  0.498000   \n",
       "3  0.000000    0.057900     0.119000         0.000129  0.058100  0.746000   \n",
       "4  1.000000    0.053600     0.308000         0.000020  0.110000  0.659000   \n",
       "\n",
       "        tempo    duration_ms time_signature  \n",
       "0  110.636000  256240.000000       4.000000  \n",
       "1  173.931000  256520.000000       4.000000  \n",
       "2   97.909000  393667.000000       4.000000  \n",
       "3   94.382000  238600.000000       4.000000  \n",
       "4  110.059000  207680.000000       4.000000  "
      ]
     },
     "execution_count": 69,
     "metadata": {},
     "output_type": "execute_result"
    }
   ],
   "source": [
    "cal10k.head()"
   ]
  },
  {
   "cell_type": "code",
   "execution_count": 61,
   "metadata": {},
   "outputs": [],
   "source": [
    "# cal10k['Spotify_ID'] = get_spotify_id(cal10k['Song'])\n",
    "cal10k['Spotify_ID'] = cal10k['Song'].apply(get_spotify_id)"
   ]
  },
  {
   "cell_type": "code",
   "execution_count": 68,
   "metadata": {},
   "outputs": [],
   "source": [
    "cal10k.to_csv('analysis_data_sources/CAL10K_with_Spotify_WithFeatures.tab', sep='\\t')"
   ]
  },
  {
   "cell_type": "markdown",
   "metadata": {},
   "source": [
    "### Get Features from Spotify"
   ]
  },
  {
   "cell_type": "code",
   "execution_count": 65,
   "metadata": {},
   "outputs": [],
   "source": [
    "def get_features(spotify_id):\n",
    "    try:\n",
    "        feature=sp.audio_features(spotify_id)[0]\n",
    "        return format(feature['danceability'], 'f' ) \\\n",
    "                ,format(feature['energy'], 'f' ) \\\n",
    "                ,format(feature['key'], 'f' ) \\\n",
    "                ,format(feature['loudness'], 'f' ) \\\n",
    "                ,format(feature['mode'], 'f' ) \\\n",
    "                ,format(feature['speechiness'], 'f' ) \\\n",
    "                ,format(feature['acousticness'], 'f' ) \\\n",
    "                ,format(feature['instrumentalness'], 'f' ) \\\n",
    "                ,format(feature['liveness'], 'f' ) \\\n",
    "                ,format(feature['valence'], 'f' ) \\\n",
    "                ,format(feature['tempo'], 'f' ) \\\n",
    "                ,format(feature['duration_ms'], 'f' ) \\\n",
    "                ,format(feature['time_signature'], 'f' )\n",
    "    except:\n",
    "        return (0,) * 13 #Return 13 zeros"
   ]
  },
  {
   "cell_type": "code",
   "execution_count": 67,
   "metadata": {},
   "outputs": [],
   "source": [
    "cal10k['danceability']    \\\n",
    ",cal10k['energy']         \\\n",
    ",cal10k['key']            \\\n",
    ",cal10k['loudness']       \\\n",
    ",cal10k['mode']           \\\n",
    ",cal10k['speechiness']    \\\n",
    ",cal10k['acousticness']   \\\n",
    ",cal10k['instrumentalness'] \\\n",
    ",cal10k['liveness']       \\\n",
    ",cal10k['valence']        \\\n",
    ",cal10k['tempo']          \\\n",
    ",cal10k['duration_ms']    \\\n",
    ",cal10k['time_signature'] = zip(*cal10k['Spotify_ID'].apply(get_features))"
   ]
  },
  {
   "cell_type": "code",
   "execution_count": 9,
   "metadata": {},
   "outputs": [],
   "source": [
    "def get_features(spotify_id):\n",
    "    try:\n",
    "        feature=sp.audio_features(spotify_id)[0]\n",
    "        return format(feature['danceability'], 'f' ) \\\n",
    "                ,format(feature['energy'], 'f' ) \\\n",
    "                ,format(feature['key'], 'f' ) \\\n",
    "                ,format(feature['loudness'], 'f' ) \\\n",
    "                ,format(feature['mode'], 'f' ) \\\n",
    "                ,format(feature['speechiness'], 'f' ) \\\n",
    "                ,format(feature['acousticness'], 'f' ) \\\n",
    "                ,format(feature['instrumentalness'], 'f' ) \\\n",
    "                ,format(feature['liveness'], 'f' ) \\\n",
    "                ,format(feature['valence'], 'f' ) \\\n",
    "                ,format(feature['tempo'], 'f' ) \\\n",
    "                ,format(feature['duration_ms'], 'f' ) \\\n",
    "                ,format(feature['time_signature'], 'f' )\n",
    "    except:\n",
    "        return (0,) * 13"
   ]
  },
  {
   "cell_type": "code",
   "execution_count": 10,
   "metadata": {},
   "outputs": [
    {
     "name": "stdout",
     "output_type": "stream",
     "text": [
      "('0.733000', '0.899000', '0.000000', '-4.237000', '1.000000', '0.143000', '0.004960', '0.000047', '0.372000', '0.760000', '127.086000', '236093.000000', '4.000000')\n"
     ]
    }
   ],
   "source": [
    "print(get_features('1uXbwHHfgsXcUKfSZw5ZJ0'))"
   ]
  },
  {
   "cell_type": "code",
   "execution_count": null,
   "metadata": {},
   "outputs": [],
   "source": []
  },
  {
   "cell_type": "code",
   "execution_count": null,
   "metadata": {},
   "outputs": [],
   "source": []
  },
  {
   "cell_type": "code",
   "execution_count": null,
   "metadata": {},
   "outputs": [],
   "source": []
  },
  {
   "cell_type": "code",
   "execution_count": null,
   "metadata": {},
   "outputs": [],
   "source": []
  },
  {
   "cell_type": "code",
   "execution_count": null,
   "metadata": {},
   "outputs": [],
   "source": []
  }
 ],
 "metadata": {
  "kernelspec": {
   "display_name": "Python 3",
   "language": "python",
   "name": "python3"
  },
  "language_info": {
   "codemirror_mode": {
    "name": "ipython",
    "version": 3
   },
   "file_extension": ".py",
   "mimetype": "text/x-python",
   "name": "python",
   "nbconvert_exporter": "python",
   "pygments_lexer": "ipython3",
   "version": "3.7.4"
  }
 },
 "nbformat": 4,
 "nbformat_minor": 4
}
