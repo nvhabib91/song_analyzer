{
 "cells": [
  {
   "cell_type": "code",
   "execution_count": 15,
   "metadata": {},
   "outputs": [],
   "source": [
    "import re, datetime, sys, os\n",
    "import imageio\n",
    "import json\n",
    "import matplotlib.pyplot as plt\n",
    "import nltk\n",
    "import numpy as np\n",
    "import pandas as pd\n",
    "import requests\n",
    "\n",
    "import spotipy\n",
    "from spotipy.oauth2 import SpotifyClientCredentials\n",
    "\n",
    "from bs4 import BeautifulSoup\n",
    "from nltk.corpus import stopwords\n",
    "from nltk.tokenize import RegexpTokenizer\n",
    "from operator import itemgetter\n",
    "from pathlib import Path\n",
    "from textblob import TextBlob, Word\n",
    "from textblob.sentiments import NaiveBayesAnalyzer\n",
    "from wordcloud import WordCloud\n",
    "import pprint"
   ]
  },
  {
   "cell_type": "code",
   "execution_count": 32,
   "metadata": {},
   "outputs": [],
   "source": [
    "SPOTIPY_CLIENT_ID ='d0e9cdee463948d8985ec7d7c5ce0aac'\n",
    "SPOTIPY_CLIENT_SECRET ='d864675d0b5d407f913d94a50c6cf7a5'\n",
    "\n",
    "# %env SPOTIPY_CLIENT_ID ='d0e9cdee463948d8985ec7d7c5ce0aac'\n",
    "# %env SPOTIPY_CLIENT_SECRET ='d864675d0b5d407f913d94a50c6cf7a5'"
   ]
  },
  {
   "cell_type": "code",
   "execution_count": 33,
   "metadata": {},
   "outputs": [],
   "source": [
    "client_credentials_manager = SpotifyClientCredentials(client_id=SPOTIPY_CLIENT_ID, client_secret=SPOTIPY_CLIENT_SECRET)\n",
    "sp = spotipy.Spotify(client_credentials_manager=client_credentials_manager)\n",
    "# playlists = sp.user_playlists('spotify')\n"
   ]
  },
  {
   "cell_type": "code",
   "execution_count": 59,
   "metadata": {},
   "outputs": [],
   "source": [
    "\n",
    "result = sp.search(\"asdfasdfa\", limit=1, type='track')\n"
   ]
  },
  {
   "cell_type": "code",
   "execution_count": 65,
   "metadata": {},
   "outputs": [
    {
     "name": "stdout",
     "output_type": "stream",
     "text": [
      "UNKNOWN\n"
     ]
    }
   ],
   "source": [
    "try:\n",
    "    result = sp.search(\"asdfasdfa\", limit=1, type='track')\n",
    "    a = result['tracks']['items'][0]\n",
    "    print(a)\n",
    "except:\n",
    "    print(\"UNKNOWN\")\n",
    "    "
   ]
  },
  {
   "cell_type": "code",
   "execution_count": null,
   "metadata": {},
   "outputs": [],
   "source": []
  },
  {
   "cell_type": "code",
   "execution_count": null,
   "metadata": {},
   "outputs": [],
   "source": [
    "result = sp.search(\"Shallow Lady Gaga\", limit=1, type='track')\n",
    "a = result['tracks']['items'][0]\n",
    "spotify_id = a['id']"
   ]
  },
  {
   "cell_type": "code",
   "execution_count": null,
   "metadata": {},
   "outputs": [],
   "source": []
  },
  {
   "cell_type": "code",
   "execution_count": 5,
   "metadata": {},
   "outputs": [],
   "source": [
    "# From Sam\n",
    "def get_track_audio_feautures(track_id):\n",
    "    import spotipy\n",
    "    from spotipy.oauth2 import SpotifyClientCredentials\n",
    "    cid = 'c998e51f63204126a6f3e53d0f83ccc0'\n",
    "    secret = '7786b152abf44dc1a7154310e5a8512a'\n",
    "    client_credentials_manager = SpotifyClientCredentials(client_id=cid, client_secret=secret)\n",
    "    sp = spotipy.Spotify(client_credentials_manager=client_credentials_manager)\n",
    "    track_results = sp.audio_features(track_id)\n",
    "    danceability=track_results[0]['danceability']\n",
    "    energy = track_results[0]['energy']\n",
    "    key = (track_results[0]['key'])\n",
    "    loudness = track_results[0]['loudness']\n",
    "    mode = track_results[0]['mode']\n",
    "    speechiness = track_results[0]['speechiness']\n",
    "    acousticness= track_results[0]['acousticness']\n",
    "    instrumentalness = track_results[0]['instrumentalness']\n",
    "    liveness = track_results[0]['liveness']\n",
    "    valence = track_results[0]['valence']\n",
    "    tempo = track_results[0]['tempo']\n",
    "    track_href = track_results[0]['track_href']\n",
    "    analysis_url = track_results[0]['analysis_url']\n",
    "    time_signature = track_results[0]['time_signature']\n",
    "    table = pd.DataFrame({'Danceability':danceability,\n",
    "                          'Energy':energy,\n",
    "                          'Key':key,\n",
    "                          'Loudness':loudness,\n",
    "                          'Mode': mode,\n",
    "                          'Speechiness':speechiness,\n",
    "                          'Acousticness': acousticness,\n",
    "                          'Instrumentalness':instrumentalness,\n",
    "                          'Liveness': liveness,\n",
    "                          'Valence':valence,\n",
    "                          'Tempo':tempo,\n",
    "                          'Time Signature':time_signature,\n",
    "                          'Track Link':track_href,\n",
    "                          'Spotify Analysis':analysis_url\n",
    "                         },\n",
    "                          index=[0])\n",
    "    return(table)"
   ]
  },
  {
   "cell_type": "code",
   "execution_count": 6,
   "metadata": {},
   "outputs": [],
   "source": [
    "test = get_track_audio_feautures('6RX5iL93VZ5fKmyvNXvF1r')"
   ]
  },
  {
   "cell_type": "code",
   "execution_count": 7,
   "metadata": {},
   "outputs": [
    {
     "data": {
      "text/html": [
       "<div>\n",
       "<style scoped>\n",
       "    .dataframe tbody tr th:only-of-type {\n",
       "        vertical-align: middle;\n",
       "    }\n",
       "\n",
       "    .dataframe tbody tr th {\n",
       "        vertical-align: top;\n",
       "    }\n",
       "\n",
       "    .dataframe thead th {\n",
       "        text-align: right;\n",
       "    }\n",
       "</style>\n",
       "<table border=\"1\" class=\"dataframe\">\n",
       "  <thead>\n",
       "    <tr style=\"text-align: right;\">\n",
       "      <th></th>\n",
       "      <th>Danceability</th>\n",
       "      <th>Energy</th>\n",
       "      <th>Key</th>\n",
       "      <th>Loudness</th>\n",
       "      <th>Mode</th>\n",
       "      <th>Speechiness</th>\n",
       "      <th>Acousticness</th>\n",
       "      <th>Instrumentalness</th>\n",
       "      <th>Liveness</th>\n",
       "      <th>Valence</th>\n",
       "      <th>Tempo</th>\n",
       "      <th>Time Signature</th>\n",
       "      <th>Track Link</th>\n",
       "      <th>Spotify Analysis</th>\n",
       "    </tr>\n",
       "  </thead>\n",
       "  <tbody>\n",
       "    <tr>\n",
       "      <th>0</th>\n",
       "      <td>0.447</td>\n",
       "      <td>0.694</td>\n",
       "      <td>7</td>\n",
       "      <td>-4.637</td>\n",
       "      <td>0</td>\n",
       "      <td>0.382</td>\n",
       "      <td>0.0293</td>\n",
       "      <td>0.000005</td>\n",
       "      <td>0.167</td>\n",
       "      <td>0.509</td>\n",
       "      <td>175.868</td>\n",
       "      <td>4</td>\n",
       "      <td>https://api.spotify.com/v1/tracks/6RX5iL93VZ5f...</td>\n",
       "      <td>https://api.spotify.com/v1/audio-analysis/6RX5...</td>\n",
       "    </tr>\n",
       "  </tbody>\n",
       "</table>\n",
       "</div>"
      ],
      "text/plain": [
       "   Danceability  Energy  Key  Loudness  Mode  Speechiness  Acousticness  \\\n",
       "0         0.447   0.694    7    -4.637     0        0.382        0.0293   \n",
       "\n",
       "   Instrumentalness  Liveness  Valence    Tempo  Time Signature  \\\n",
       "0          0.000005     0.167    0.509  175.868               4   \n",
       "\n",
       "                                          Track Link  \\\n",
       "0  https://api.spotify.com/v1/tracks/6RX5iL93VZ5f...   \n",
       "\n",
       "                                    Spotify Analysis  \n",
       "0  https://api.spotify.com/v1/audio-analysis/6RX5...  "
      ]
     },
     "execution_count": 7,
     "metadata": {},
     "output_type": "execute_result"
    }
   ],
   "source": [
    "test"
   ]
  },
  {
   "cell_type": "code",
   "execution_count": null,
   "metadata": {},
   "outputs": [],
   "source": [
    "test = sp.artist('6RX5iL93VZ5fKmyvNXvF1r')"
   ]
  },
  {
   "cell_type": "code",
   "execution_count": null,
   "metadata": {},
   "outputs": [],
   "source": []
  },
  {
   "cell_type": "code",
   "execution_count": null,
   "metadata": {},
   "outputs": [],
   "source": []
  },
  {
   "cell_type": "code",
   "execution_count": null,
   "metadata": {},
   "outputs": [],
   "source": []
  },
  {
   "cell_type": "code",
   "execution_count": null,
   "metadata": {},
   "outputs": [],
   "source": []
  },
  {
   "cell_type": "code",
   "execution_count": null,
   "metadata": {},
   "outputs": [],
   "source": []
  },
  {
   "cell_type": "code",
   "execution_count": null,
   "metadata": {},
   "outputs": [],
   "source": []
  },
  {
   "cell_type": "code",
   "execution_count": null,
   "metadata": {},
   "outputs": [],
   "source": []
  },
  {
   "cell_type": "code",
   "execution_count": null,
   "metadata": {},
   "outputs": [],
   "source": []
  },
  {
   "cell_type": "code",
   "execution_count": null,
   "metadata": {},
   "outputs": [],
   "source": []
  },
  {
   "cell_type": "code",
   "execution_count": null,
   "metadata": {},
   "outputs": [],
   "source": []
  },
  {
   "cell_type": "code",
   "execution_count": null,
   "metadata": {},
   "outputs": [],
   "source": []
  },
  {
   "cell_type": "code",
   "execution_count": null,
   "metadata": {},
   "outputs": [],
   "source": []
  }
 ],
 "metadata": {
  "kernelspec": {
   "display_name": "Python 3",
   "language": "python",
   "name": "python3"
  },
  "language_info": {
   "codemirror_mode": {
    "name": "ipython",
    "version": 3
   },
   "file_extension": ".py",
   "mimetype": "text/x-python",
   "name": "python",
   "nbconvert_exporter": "python",
   "pygments_lexer": "ipython3",
   "version": "3.8.1"
  }
 },
 "nbformat": 4,
 "nbformat_minor": 4
}
